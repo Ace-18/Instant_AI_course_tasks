{
 "cells": [
  {
   "cell_type": "markdown",
   "id": "d5f308e8",
   "metadata": {},
   "source": [
    "<h1>Task 2</h2>\n",
    "<h3>Session 4<br><br>\n",
    "    Date: 16/11/2021<br><br><br>\n",
    "    Graph Implementation 1</h3>"
   ]
  },
  {
   "cell_type": "markdown",
   "id": "88904f97",
   "metadata": {},
   "source": [
    "![](graph.png)"
   ]
  },
  {
   "cell_type": "code",
   "execution_count": 136,
   "id": "a6f032c9",
   "metadata": {
    "ExecuteTime": {
     "end_time": "2021-11-20T11:10:37.704373Z",
     "start_time": "2021-11-20T11:10:37.684383Z"
    }
   },
   "outputs": [],
   "source": [
    "###############\n",
    "#Graphs\n",
    "#(Directed)\n",
    "\n",
    "from collections import namedtuple\n",
    "import collections\n",
    "\n",
    "Graph=namedtuple(\"Graph\",[\"nodes\",\"edges\",\"is_directed\"]) #is_directed could be set to True or False to satify both directed and undirected\n",
    "\n",
    "nodes=[\"A\",\"B\",\"C\",\"D\"]\n",
    "edges=[(\"A\",\"B\"),(\"B\",\"A\"),(\"A\",\"C\"),(\"C\",\"A\"),(\"A\",\"D\"),(\"C\",\"D\"),(\"B\",\"D\")]\n",
    "\n",
    "graph=Graph(nodes,edges,is_directed=True)\n",
    "\n"
   ]
  },
  {
   "cell_type": "code",
   "execution_count": 124,
   "id": "a86bbf95",
   "metadata": {
    "ExecuteTime": {
     "end_time": "2021-11-19T22:29:42.874319Z",
     "start_time": "2021-11-19T22:29:42.858390Z"
    }
   },
   "outputs": [],
   "source": [
    "#Method 1: Making adjacency list (it's a dictionary)\n",
    "#[A list of lists where each list represents a node in the graph. The node's list containes all adjacent nodes to it]\n",
    "\n",
    "def adj_list(graph):\n",
    "    adj_list={node:[] for node in graph.nodes}\n",
    "    \n",
    "    for edge in graph.edges:\n",
    "        n1,n2=edge\n",
    "        adj_list[n1].append(n2) \n",
    "        \n",
    "        if not graph.is_directed:\n",
    "            adj_list[n2].append(n1)\n",
    "    \n",
    "    return(adj_list)\n"
   ]
  },
  {
   "cell_type": "code",
   "execution_count": 123,
   "id": "05987cbc",
   "metadata": {
    "ExecuteTime": {
     "end_time": "2021-11-19T22:29:40.234433Z",
     "start_time": "2021-11-19T22:29:40.214445Z"
    }
   },
   "outputs": [],
   "source": [
    "#Method 2: Making adjacency matrix \n",
    "#Square matrix nxn(n:number of nodes) where each row reprents a node and each column represents a node and \n",
    "#the intersection of the row and the columnn contains number of edges between these 2 nodes.\n",
    "\n",
    "\n",
    "def adj_matrix(graph):\n",
    "    adj_matrix=[[0 for n in graph.nodes ] for n in graph.nodes]\n",
    "    \n",
    "    for edge in graph.edges:\n",
    "        n1,n2=edge\n",
    "        adj_matrix[graph.nodes.index(n1)][graph.nodes.index(n2)]+=1\n",
    "        \n",
    "        if not graph.is_directed:\n",
    "            adj_matrix[graph.nodes.index(n2)][graph.nodes.index(n1)]+=1\n",
    "\n",
    "    return(adj_matrix)\n"
   ]
  },
  {
   "cell_type": "code",
   "execution_count": null,
   "id": "daf23144",
   "metadata": {},
   "outputs": [],
   "source": []
  },
  {
   "cell_type": "code",
   "execution_count": 126,
   "id": "6b8e1f30",
   "metadata": {
    "ExecuteTime": {
     "end_time": "2021-11-19T22:30:07.696129Z",
     "start_time": "2021-11-19T22:30:07.486264Z"
    }
   },
   "outputs": [
    {
     "data": {
      "text/plain": [
       "<class 'pyvis.network.Network'> |N|=4 |E|=6"
      ]
     },
     "execution_count": 126,
     "metadata": {},
     "output_type": "execute_result"
    }
   ],
   "source": [
    "from pyvis.network import Network\n",
    "\n",
    "def show(graph):\n",
    "    g=Network(directed=graph.is_directed)\n",
    "    g.add_nodes(graph.nodes)\n",
    "    g.add_edges(graph.edges)\n",
    "    \n",
    "    g.show(\"hg.html\")\n",
    "    return g\n",
    "show(graph2)"
   ]
  },
  {
   "cell_type": "code",
   "execution_count": 132,
   "id": "894b83e3",
   "metadata": {
    "ExecuteTime": {
     "end_time": "2021-11-20T09:17:02.881597Z",
     "start_time": "2021-11-20T09:17:02.857597Z"
    }
   },
   "outputs": [
    {
     "data": {
      "text/plain": [
       "['B', 'A', 'C']"
      ]
     },
     "execution_count": 132,
     "metadata": {},
     "output_type": "execute_result"
    }
   ],
   "source": [
    "  def find_path(graph, start, end, path=[]):\n",
    "        path = path + [start]\n",
    "        if start == end:\n",
    "            return path\n",
    "        adj_list=adj_list(graph)\n",
    "        if start not in adj_list:\n",
    "            return None\n",
    "        for node in adj_list[start]:\n",
    "            if node not in path:\n",
    "                newpath = find_path(graph, node, end, path)\n",
    "                if newpath: return newpath\n",
    "        return None\n",
    "    \n",
    "find_path(graph2,\"B\",\"C\")  "
   ]
  },
  {
   "cell_type": "code",
   "execution_count": null,
   "id": "19e5e0f3",
   "metadata": {},
   "outputs": [],
   "source": []
  }
 ],
 "metadata": {
  "kernelspec": {
   "display_name": "Python 3 (ipykernel)",
   "language": "python",
   "name": "python3"
  },
  "language_info": {
   "codemirror_mode": {
    "name": "ipython",
    "version": 3
   },
   "file_extension": ".py",
   "mimetype": "text/x-python",
   "name": "python",
   "nbconvert_exporter": "python",
   "pygments_lexer": "ipython3",
   "version": "3.9.6"
  }
 },
 "nbformat": 4,
 "nbformat_minor": 5
}
