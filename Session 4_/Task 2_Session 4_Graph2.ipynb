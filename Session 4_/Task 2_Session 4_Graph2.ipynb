{
 "cells": [
  {
   "cell_type": "markdown",
   "id": "d5f308e8",
   "metadata": {},
   "source": [
    "<h1>Task 2</h2>\n",
    "<h3>Session 4<br><br>\n",
    "    Date: 16/11/2021<br><br><br>\n",
    "    Graph Implementation 2</h3>"
   ]
  },
  {
   "cell_type": "code",
   "execution_count": 63,
   "id": "a81a2885",
   "metadata": {
    "ExecuteTime": {
     "end_time": "2021-11-20T11:34:30.706274Z",
     "start_time": "2021-11-20T11:34:30.677295Z"
    }
   },
   "outputs": [],
   "source": [
    "from pyvis.network import Network\n",
    "\n",
    "#directed\n",
    "graph1=Network(directed=True)\n",
    "\n",
    "graph1.add_nodes([\"A\",\"B\",\"C\",\"D\",\"E\"])\n",
    "\n",
    "\n",
    "graph1.add_edges(([\"A\",\"B\"],[\"A\",\"C\"],[\"B\",\"D\"],(\"C\",\"E\"),(\"D\",\"E\")))\n",
    "\n",
    "#graph1.show(\"graph.html\")\n",
    "\n"
   ]
  },
  {
   "cell_type": "code",
   "execution_count": 64,
   "id": "4c821a49",
   "metadata": {
    "ExecuteTime": {
     "end_time": "2021-11-20T11:34:31.293706Z",
     "start_time": "2021-11-20T11:34:31.283711Z"
    }
   },
   "outputs": [],
   "source": [
    "def find_path(graph, start, end, path=[]):\n",
    "        path = path + [start]\n",
    "        if start == end:\n",
    "            return path\n",
    "        adj_list=graph.get_adj_list()\n",
    "    \n",
    "        if start not in adj_list:\n",
    "            return None\n",
    "        for node in adj_list[start]:\n",
    "            if node not in path:\n",
    "                newpath = find_path(graph, node, end, path)\n",
    "                if newpath: return newpath\n",
    "        return None\n",
    "    \n",
    "#find_path(graph2,\"A\",\"E\")"
   ]
  },
  {
   "cell_type": "code",
   "execution_count": 66,
   "id": "689a66cd",
   "metadata": {
    "ExecuteTime": {
     "end_time": "2021-11-20T11:34:50.160011Z",
     "start_time": "2021-11-20T11:34:50.146015Z"
    }
   },
   "outputs": [],
   "source": [
    "def find_all_paths(graph, start, end, path=[]):\n",
    "        path = path + [start]\n",
    "        paths = []\n",
    "        \n",
    "        if start == end:\n",
    "            return [path]\n",
    "        adj_list=graph.get_adj_list()\n",
    "        if start not in adj_list:\n",
    "            return []\n",
    "        \n",
    "        for node in adj_list[start]:\n",
    "            if node not in path:\n",
    "                newpaths = find_all_paths(graph, node, end, path)\n",
    "                for newpath in newpaths:\n",
    "                    paths.append(newpath)\n",
    "        return paths\n",
    "  \n",
    "#find_all_paths(graph1,\"B\",\"A\")\n",
    "#find_all_paths(graph1,\"A\",\"E\")"
   ]
  },
  {
   "cell_type": "code",
   "execution_count": null,
   "id": "7f2acebc",
   "metadata": {},
   "outputs": [],
   "source": []
  }
 ],
 "metadata": {
  "kernelspec": {
   "display_name": "Python 3 (ipykernel)",
   "language": "python",
   "name": "python3"
  },
  "language_info": {
   "codemirror_mode": {
    "name": "ipython",
    "version": 3
   },
   "file_extension": ".py",
   "mimetype": "text/x-python",
   "name": "python",
   "nbconvert_exporter": "python",
   "pygments_lexer": "ipython3",
   "version": "3.9.6"
  }
 },
 "nbformat": 4,
 "nbformat_minor": 5
}
