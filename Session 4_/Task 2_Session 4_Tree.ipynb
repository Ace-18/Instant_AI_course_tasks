{
 "cells": [
  {
   "cell_type": "markdown",
   "id": "5ee182ac",
   "metadata": {},
   "source": [
    "<h1>Task 2</h2>\n",
    "<h3>Session 4<br><br>\n",
    "    Date: 16/11/2021<br><br><br>\n",
    "    Tree Implementation</h3>"
   ]
  },
  {
   "cell_type": "code",
   "execution_count": 33,
   "id": "b35f4ebe",
   "metadata": {
    "ExecuteTime": {
     "end_time": "2021-11-23T16:15:15.024398Z",
     "start_time": "2021-11-23T16:15:15.000397Z"
    }
   },
   "outputs": [],
   "source": [
    "from binarytree import Node\n",
    "\n",
    "root=Node(1)\n",
    "\n",
    "x=Node(2)\n",
    "root.left=x\n",
    "root.right=Node(3)    \n",
    "\n",
    "y=Node(4)\n",
    "x.right=y\n",
    "\n",
    "y.right=Node(7)\n",
    "\n",
    "\n",
    "#print('List of nodes :', list(root))\n"
   ]
  },
  {
   "cell_type": "raw",
   "id": "b8c2437e",
   "metadata": {},
   "source": []
  },
  {
   "cell_type": "code",
   "execution_count": 15,
   "id": "04240078",
   "metadata": {
    "ExecuteTime": {
     "end_time": "2021-11-23T13:02:26.593261Z",
     "start_time": "2021-11-23T13:02:26.584262Z"
    }
   },
   "outputs": [
    {
     "name": "stdout",
     "output_type": "stream",
     "text": [
      "Node('/1')\n"
     ]
    }
   ],
   "source": [
    "from anytree import Node\n",
    "\n",
    "n1 = Node(\"1\") \n",
    "print(n1)"
   ]
  },
  {
   "cell_type": "code",
   "execution_count": null,
   "id": "4e4abd8d",
   "metadata": {},
   "outputs": [],
   "source": []
  }
 ],
 "metadata": {
  "kernelspec": {
   "display_name": "Python 3 (ipykernel)",
   "language": "python",
   "name": "python3"
  },
  "language_info": {
   "codemirror_mode": {
    "name": "ipython",
    "version": 3
   },
   "file_extension": ".py",
   "mimetype": "text/x-python",
   "name": "python",
   "nbconvert_exporter": "python",
   "pygments_lexer": "ipython3",
   "version": "3.9.6"
  }
 },
 "nbformat": 4,
 "nbformat_minor": 5
}
