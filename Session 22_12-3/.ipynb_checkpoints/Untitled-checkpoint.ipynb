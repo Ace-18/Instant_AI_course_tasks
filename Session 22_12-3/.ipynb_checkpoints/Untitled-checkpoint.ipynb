{
 "cells": [
  {
   "cell_type": "code",
   "execution_count": 1,
   "id": "a8429bff",
   "metadata": {
    "ExecuteTime": {
     "end_time": "2022-03-18T12:30:36.651343Z",
     "start_time": "2022-03-18T12:30:35.066597Z"
    }
   },
   "outputs": [],
   "source": [
    "import cv2 as cv\n",
    "import numpy as np"
   ]
  },
  {
   "cell_type": "code",
   "execution_count": 55,
   "id": "02dd03cc",
   "metadata": {
    "ExecuteTime": {
     "end_time": "2022-03-16T19:28:12.639657Z",
     "start_time": "2022-03-16T19:28:12.548640Z"
    }
   },
   "outputs": [],
   "source": [
    "im1 = cv.imread('note9_tbate_1.jpg')\n",
    "im2 = cv.imread('note9_tbate_2.jpg')"
   ]
  },
  {
   "cell_type": "code",
   "execution_count": 7,
   "id": "c5fabb9e",
   "metadata": {
    "ExecuteTime": {
     "end_time": "2022-03-18T12:44:21.750117Z",
     "start_time": "2022-03-18T12:44:21.670116Z"
    }
   },
   "outputs": [],
   "source": [
    "# Reading Videos\n",
    "capture = cv.VideoCapture('86 season 2 episode 11.mp4') # n number of images\n",
    "counter = 0 \n",
    "frames = []"
   ]
  },
  {
   "cell_type": "code",
   "execution_count": 8,
   "id": "782628b6",
   "metadata": {
    "ExecuteTime": {
     "end_time": "2022-03-18T12:59:47.143732Z",
     "start_time": "2022-03-18T12:44:22.260876Z"
    }
   },
   "outputs": [
    {
     "name": "stdout",
     "output_type": "stream",
     "text": [
      "28001\n"
     ]
    }
   ],
   "source": [
    "while True:\n",
    "    isTrue, frame = capture.read() # read 1 image ( frame ) return : t/f frame exist , if true , frame    \n",
    "    # if cv.waitKey(20) & 0xFF==ord('d'):\n",
    "    # This is the preferred way - if `isTrue` is false (the frame could \n",
    "    # not be read, or we're at the end of the video), we immediately\n",
    "    # break from the loop. \n",
    "    if isTrue:\n",
    "        counter+=1\n",
    "        if counter>16000:\n",
    "            if counter>28000:\n",
    "                break\n",
    "#            cv.imwrite(f'pic\\\\{counter}.jpg',frame)\n",
    "        \n",
    "    else:\n",
    "        break\n",
    "        \n",
    "capture.release()\n",
    "\n",
    "cv.destroyAllWindows() # remove video from memory \n",
    "print(counter)"
   ]
  },
  {
   "cell_type": "code",
   "execution_count": null,
   "id": "260cc4a1",
   "metadata": {},
   "outputs": [],
   "source": []
  },
  {
   "cell_type": "code",
   "execution_count": 24,
   "id": "9e0bf582",
   "metadata": {
    "ExecuteTime": {
     "end_time": "2022-03-16T18:37:30.375798Z",
     "start_time": "2022-03-16T18:37:30.358808Z"
    }
   },
   "outputs": [],
   "source": [
    "r=img.shape[0]\n"
   ]
  },
  {
   "cell_type": "code",
   "execution_count": 56,
   "id": "4b035bb5",
   "metadata": {
    "ExecuteTime": {
     "end_time": "2022-03-16T19:28:22.769346Z",
     "start_time": "2022-03-16T19:28:22.761348Z"
    }
   },
   "outputs": [],
   "source": [
    "cropped = img[1750:r-200 , :]"
   ]
  },
  {
   "cell_type": "code",
   "execution_count": 68,
   "id": "1600f221",
   "metadata": {
    "ExecuteTime": {
     "end_time": "2022-03-16T22:35:40.531732Z",
     "start_time": "2022-03-16T22:35:32.710221Z"
    }
   },
   "outputs": [
    {
     "data": {
      "text/plain": [
       "-1"
      ]
     },
     "execution_count": 68,
     "metadata": {},
     "output_type": "execute_result"
    }
   ],
   "source": [
    "cv.namedWindow(\"output\", cv.WINDOW_NORMAL)\n",
    "cv.imshow(\"output\", cropped)\n",
    "cv.waitKey(0)"
   ]
  },
  {
   "cell_type": "code",
   "execution_count": 69,
   "id": "0e5d4840",
   "metadata": {
    "ExecuteTime": {
     "end_time": "2022-03-16T22:35:52.414454Z",
     "start_time": "2022-03-16T22:35:52.397449Z"
    }
   },
   "outputs": [
    {
     "data": {
      "text/plain": [
       "(1930, 940, 3)"
      ]
     },
     "execution_count": 69,
     "metadata": {},
     "output_type": "execute_result"
    }
   ],
   "source": [
    "cropped.shape"
   ]
  },
  {
   "cell_type": "code",
   "execution_count": 88,
   "id": "c9b5c7c7",
   "metadata": {
    "ExecuteTime": {
     "end_time": "2022-03-16T22:46:00.491110Z",
     "start_time": "2022-03-16T22:46:00.473103Z"
    }
   },
   "outputs": [
    {
     "data": {
      "text/plain": [
       "dtype('uint8')"
      ]
     },
     "execution_count": 88,
     "metadata": {},
     "output_type": "execute_result"
    }
   ],
   "source": [
    "cropped.dtype"
   ]
  },
  {
   "cell_type": "code",
   "execution_count": 114,
   "id": "3e20a9c8",
   "metadata": {
    "ExecuteTime": {
     "end_time": "2022-03-16T22:57:01.384216Z",
     "start_time": "2022-03-16T22:57:01.342228Z"
    }
   },
   "outputs": [],
   "source": [
    "blank=np.zeros((1930, 1500,3),dtype=\"uint8\")\n",
    "blank[:,:]= 255,255,255"
   ]
  },
  {
   "cell_type": "code",
   "execution_count": 127,
   "id": "c41c8107",
   "metadata": {
    "ExecuteTime": {
     "end_time": "2022-03-16T23:00:14.278833Z",
     "start_time": "2022-03-16T23:00:14.260844Z"
    }
   },
   "outputs": [
    {
     "data": {
      "text/plain": [
       "280"
      ]
     },
     "execution_count": 127,
     "metadata": {},
     "output_type": "execute_result"
    }
   ],
   "source": [
    "x=(blank.shape[1]-cropped.shape[1])//2\n",
    "x"
   ]
  },
  {
   "cell_type": "code",
   "execution_count": 132,
   "id": "f853fa84",
   "metadata": {
    "ExecuteTime": {
     "end_time": "2022-03-16T23:00:43.808890Z",
     "start_time": "2022-03-16T23:00:42.084105Z"
    }
   },
   "outputs": [
    {
     "data": {
      "text/plain": [
       "-1"
      ]
     },
     "execution_count": 132,
     "metadata": {},
     "output_type": "execute_result"
    }
   ],
   "source": [
    "blank[:,x:x+cropped.shape[1]]=cropped\n",
    "cv.namedWindow(\"output\", cv.WINDOW_NORMAL)\n",
    "cv.imshow(\"output\", blank)\n",
    "cv.waitKey(0)"
   ]
  },
  {
   "cell_type": "code",
   "execution_count": null,
   "id": "36d9a2f4",
   "metadata": {},
   "outputs": [],
   "source": [
    "def wallpaper_blur(img,dim):\n",
    "    # Blur \n",
    "    blur = cv.GaussianBlur(img, (101,101), cv.BORDER_DEFAULT)\n",
    "    \n",
    "    # Resize\n",
    "    resized_blur = cv.resize(blur, dim, interpolation=cv.INTER_CUBIC)\n",
    "    \n",
    "    cv.namedWindow(\"output\", cv.WINDOW_NORMAL)\n",
    "    cv.imshow(\"output\", resized_blur)\n",
    "    cv.waitKey(0)    \n",
    "    resized_blur.shape\n",
    "    blank = np.zeros(resized_blur.shape, dtype='uint8') \n",
    "    \n",
    "    if img.shape[:2] != dim:\n",
    "        factory=img.shape[1]/dim[1]\n",
    "        factorx=img.shape[0]/dim[0]\n",
    "        \n",
    "        if factorx<1 and factory<1:\n",
    "            \n",
    "            if factorx>factory:\n",
    "                new_dim=(int(img.shape[0]//factorx),int(img.shape[1]//factorx))\n",
    "                img_resized= cv.resize(img, new_dim, interpolation=cv.INTER_CUBIC)\n",
    "                blank[:,y:y+img_resized[1]]=img_resized\n",
    "            else:\n",
    "                new_dim=(int(img.shape[0]//factory),int(img.shape[1]//factory))\n",
    "                img_resized= cv.resize(img, new_dim, interpolation=cv.INTER_CUBIC)\n",
    "                blank[x:x,:]=img_resized\n",
    "        elif factorx>=1 and factory>=1:\n",
    "            \n",
    "            if factorx<factory:\n",
    "                new_dim=(int(img.shape[0]//factorx),int(img.shape[1]//factorx))\n",
    "                img_resized= cv.resize(img, new_dim, interpolation=cv.INTER_CUBIC)\n",
    "                blank[:,y:y+img_resized[1]]=img_resized\n",
    "            else:\n",
    "                new_dim=(int(img.shape[0]//factory),int(img.shape[1]//factory))\n",
    "                img_resized= cv.resize(img, new_dim, interpolation=cv.INTER_CUBIC)\n",
    "                blank[x:x,:]=img_resized\n",
    "\n",
    "            \n",
    "        cv.namedWindow(\"output\", cv.WINDOW_NORMAL)\n",
    "        cv.imshow(\"output\", img_resized)\n",
    "        cv.waitKey(0)\n",
    "        \n",
    "        cv.namedWindow(\"output\", cv.WINDOW_NORMAL)\n",
    "        cv.imshow(\"output\", blank)\n",
    "        cv.waitKey(0)\n",
    "\n",
    "        x=(blank.shape[0]-img_resized.shape[0])//2\n",
    "        y=(blank.shape[1]-img_resized.shape[1])//2\n",
    "\n",
    "        blank[x:x+img_resized[0],y:y+img_resized[1]]=img_resized[x:x+img_resized[0],y:y+img_resized[1]]\n",
    "        cv.namedWindow(\"output\", cv.WINDOW_NORMAL)\n",
    "        cv.imshow(\"output\", blank)\n",
    "        cv.waitKey(0)\n",
    "\n",
    "        \n",
    "        print(f'img:{img.shape}\\nBlank:{blank.shape}\\nimg_resized:{img_resized.shape}\\nresized_blur:{resized_blur.shape}')\n",
    "        \n",
    "#cv.imwrite('note60_tbate.jpg',img_resized)    "
   ]
  },
  {
   "cell_type": "code",
   "execution_count": null,
   "id": "038b3727",
   "metadata": {},
   "outputs": [],
   "source": [
    "img = cv.imread('note2_tbate.jpg')\n",
    "wallpaper_blur(img,(2436,1125))"
   ]
  },
  {
   "cell_type": "code",
   "execution_count": null,
   "id": "8991b830",
   "metadata": {},
   "outputs": [],
   "source": []
  },
  {
   "cell_type": "code",
   "execution_count": 131,
   "id": "70a3744f",
   "metadata": {
    "ExecuteTime": {
     "end_time": "2022-03-16T23:00:38.830509Z",
     "start_time": "2022-03-16T23:00:38.740926Z"
    }
   },
   "outputs": [
    {
     "data": {
      "text/plain": [
       "True"
      ]
     },
     "execution_count": 131,
     "metadata": {},
     "output_type": "execute_result"
    }
   ],
   "source": [
    "\n",
    "\n",
    "cv.imwrite('note600_tbateegg.jpg',blank)"
   ]
  },
  {
   "cell_type": "code",
   "execution_count": 47,
   "id": "ceefa5f3",
   "metadata": {
    "ExecuteTime": {
     "end_time": "2022-03-16T19:25:36.470118Z",
     "start_time": "2022-03-16T19:25:36.462115Z"
    }
   },
   "outputs": [],
   "source": [
    "type(img.shape)\n",
    "\n",
    "new_dim=(img.shape[i]*2 for i in range(2) )"
   ]
  },
  {
   "cell_type": "code",
   "execution_count": 53,
   "id": "6ba171a4",
   "metadata": {
    "ExecuteTime": {
     "end_time": "2022-03-16T19:27:46.265472Z",
     "start_time": "2022-03-16T19:27:46.257473Z"
    }
   },
   "outputs": [],
   "source": [
    "new_dim=[]\n",
    "for i in range(2):\n",
    "    new_dim.append(img.shape[i]*2)\n",
    "new_dim=tuple(new_dim)\n",
    "\n"
   ]
  },
  {
   "cell_type": "code",
   "execution_count": 60,
   "id": "960dbfab",
   "metadata": {
    "ExecuteTime": {
     "end_time": "2022-03-16T19:29:28.527425Z",
     "start_time": "2022-03-16T19:29:27.930236Z"
    }
   },
   "outputs": [
    {
     "data": {
      "text/plain": [
       "True"
      ]
     },
     "execution_count": 60,
     "metadata": {},
     "output_type": "execute_result"
    }
   ],
   "source": [
    "img0=cv.imread('note6_tbate.jpg')\n",
    "\n",
    "new_dim=[]\n",
    "for i in range(2):\n",
    "    new_dim.append(img0.shape[i]*2)\n",
    "new_dim=tuple(new_dim)\n",
    "\n",
    "img_resized= cv.resize(img0, new_dim, interpolation=cv.INTER_CUBIC)\n",
    "cv.imwrite('note600_tbate.jpg',img_resized)"
   ]
  },
  {
   "cell_type": "code",
   "execution_count": 66,
   "id": "acf5cbf6",
   "metadata": {
    "ExecuteTime": {
     "end_time": "2022-03-16T19:33:32.552425Z",
     "start_time": "2022-03-16T19:33:31.893421Z"
    }
   },
   "outputs": [],
   "source": [
    "dim=(1125,2436)\n",
    "if img0.shape != dim:    \n",
    "    factor=img0.shape[1]/dim[1]\n",
    "    new_dim=(int(img0.shape[0]//factor),int(img0.shape[1]//factor))\n",
    "    img_resized= cv.resize(img0, new_dim, interpolation=cv.INTER_CUBIC)\n",
    "    cv.imwrite('note60_tbate.jpg',img_resized)\n",
    "        "
   ]
  },
  {
   "cell_type": "code",
   "execution_count": 67,
   "id": "c62842a2",
   "metadata": {
    "ExecuteTime": {
     "end_time": "2022-03-16T19:33:58.513299Z",
     "start_time": "2022-03-16T19:33:58.497282Z"
    }
   },
   "outputs": [
    {
     "data": {
      "text/plain": [
       "(3750, 940, 3)"
      ]
     },
     "execution_count": 67,
     "metadata": {},
     "output_type": "execute_result"
    }
   ],
   "source": [
    "img0.shape"
   ]
  },
  {
   "cell_type": "code",
   "execution_count": 65,
   "id": "d70b6159",
   "metadata": {
    "ExecuteTime": {
     "end_time": "2022-03-16T19:33:01.119835Z",
     "start_time": "2022-03-16T19:33:01.095839Z"
    }
   },
   "outputs": [
    {
     "data": {
      "text/plain": [
       "(2436, 9718, 3)"
      ]
     },
     "execution_count": 65,
     "metadata": {},
     "output_type": "execute_result"
    }
   ],
   "source": [
    "img_resized.shape"
   ]
  },
  {
   "cell_type": "code",
   "execution_count": null,
   "id": "31e6b8eb",
   "metadata": {},
   "outputs": [],
   "source": []
  }
 ],
 "metadata": {
  "kernelspec": {
   "display_name": "Python 3 (ipykernel)",
   "language": "python",
   "name": "python3"
  },
  "language_info": {
   "codemirror_mode": {
    "name": "ipython",
    "version": 3
   },
   "file_extension": ".py",
   "mimetype": "text/x-python",
   "name": "python",
   "nbconvert_exporter": "python",
   "pygments_lexer": "ipython3",
   "version": "3.9.6"
  }
 },
 "nbformat": 4,
 "nbformat_minor": 5
}
