{
 "cells": [
  {
   "cell_type": "markdown",
   "id": "826fe6c9",
   "metadata": {},
   "source": [
    "<h3>Task 1: 5 Python Libraries for computer vision</h3>"
   ]
  },
  {
   "cell_type": "markdown",
   "id": "31ed5c1f",
   "metadata": {},
   "source": [
    "1. IPSDK \n",
    "2. SciPy\n",
    "3. Mahotas\n",
    "4. SimpleITK\n",
    "5. Pgmagick"
   ]
  },
  {
   "cell_type": "markdown",
   "id": "1f40fd38",
   "metadata": {},
   "source": [
    "<h3>Task 2: Image Formats Supported by OpenCV</h3>"
   ]
  },
  {
   "cell_type": "markdown",
   "id": "58e19747",
   "metadata": {},
   "source": [
    "1. Windows bitmap (bmp)\n",
    "2. Portable image formats (pbm, pgm, ppm)\n",
    "3. Sun raster (sr, ras)\n",
    "4. JPEG (jpeg, jpg, jpe)\n",
    "5. JPEG 2000 (jp2)\n",
    "6. TIFF files (tiff, tif)\n",
    "7. Portable network graphics (png)"
   ]
  },
  {
   "cell_type": "markdown",
   "id": "6feca303",
   "metadata": {
    "ExecuteTime": {
     "end_time": "2022-03-15T12:41:40.218301Z",
     "start_time": "2022-03-15T12:41:40.164313Z"
    }
   },
   "source": [
    "<h3>Task 3: Aactive contour model python</h3>"
   ]
  },
  {
   "cell_type": "code",
   "execution_count": null,
   "id": "0be62886",
   "metadata": {},
   "outputs": [],
   "source": []
  },
  {
   "cell_type": "code",
   "execution_count": 1,
   "id": "61f67522",
   "metadata": {
    "ExecuteTime": {
     "end_time": "2022-03-16T20:47:34.810941Z",
     "start_time": "2022-03-16T20:47:34.556485Z"
    }
   },
   "outputs": [],
   "source": [
    "import cv2 as cv\n",
    "import numpy as np"
   ]
  },
  {
   "cell_type": "markdown",
   "id": "cd4a8ece",
   "metadata": {},
   "source": [
    "<h3>Task 4: how to read video, image and sound</h3>"
   ]
  },
  {
   "cell_type": "code",
   "execution_count": 21,
   "id": "47069107",
   "metadata": {
    "ExecuteTime": {
     "end_time": "2022-03-15T12:29:24.827425Z",
     "start_time": "2022-03-15T12:29:12.057837Z"
    }
   },
   "outputs": [
    {
     "ename": "KeyboardInterrupt",
     "evalue": "",
     "output_type": "error",
     "traceback": [
      "\u001b[1;31m---------------------------------------------------------------------------\u001b[0m",
      "\u001b[1;31mKeyboardInterrupt\u001b[0m                         Traceback (most recent call last)",
      "\u001b[1;32mC:\\Users\\HP15~1\\AppData\\Local\\Temp/ipykernel_17348/2015295463.py\u001b[0m in \u001b[0;36m<module>\u001b[1;34m\u001b[0m\n\u001b[0;32m     23\u001b[0m     \u001b[0mvideo\u001b[0m\u001b[1;33m.\u001b[0m\u001b[0mrelease\u001b[0m\u001b[1;33m(\u001b[0m\u001b[1;33m)\u001b[0m\u001b[1;33m\u001b[0m\u001b[1;33m\u001b[0m\u001b[0m\n\u001b[0;32m     24\u001b[0m     \u001b[0mcv\u001b[0m\u001b[1;33m.\u001b[0m\u001b[0mdestroyAllWindows\u001b[0m\u001b[1;33m(\u001b[0m\u001b[1;33m)\u001b[0m\u001b[1;33m\u001b[0m\u001b[1;33m\u001b[0m\u001b[0m\n\u001b[1;32m---> 25\u001b[1;33m \u001b[0mPlayVideo\u001b[0m\u001b[1;33m(\u001b[0m\u001b[0mvideo_path\u001b[0m\u001b[1;33m)\u001b[0m\u001b[1;33m\u001b[0m\u001b[1;33m\u001b[0m\u001b[0m\n\u001b[0m",
      "\u001b[1;32mC:\\Users\\HP15~1\\AppData\\Local\\Temp/ipykernel_17348/2015295463.py\u001b[0m in \u001b[0;36mPlayVideo\u001b[1;34m(video_path)\u001b[0m\n\u001b[0;32m     15\u001b[0m             \u001b[1;32mbreak\u001b[0m\u001b[1;33m\u001b[0m\u001b[1;33m\u001b[0m\u001b[0m\n\u001b[0;32m     16\u001b[0m \u001b[1;33m\u001b[0m\u001b[0m\n\u001b[1;32m---> 17\u001b[1;33m         \u001b[1;32mif\u001b[0m \u001b[0mcv\u001b[0m\u001b[1;33m.\u001b[0m\u001b[0mwaitKey\u001b[0m\u001b[1;33m(\u001b[0m\u001b[1;36m28\u001b[0m\u001b[1;33m)\u001b[0m \u001b[1;33m&\u001b[0m \u001b[1;36m0xFF\u001b[0m \u001b[1;33m==\u001b[0m \u001b[0mord\u001b[0m\u001b[1;33m(\u001b[0m\u001b[1;34m\"q\"\u001b[0m\u001b[1;33m)\u001b[0m\u001b[1;33m:\u001b[0m\u001b[1;33m\u001b[0m\u001b[1;33m\u001b[0m\u001b[0m\n\u001b[0m\u001b[0;32m     18\u001b[0m             \u001b[1;32mbreak\u001b[0m\u001b[1;33m\u001b[0m\u001b[1;33m\u001b[0m\u001b[0m\n\u001b[0;32m     19\u001b[0m         \u001b[0mcv\u001b[0m\u001b[1;33m.\u001b[0m\u001b[0mimshow\u001b[0m\u001b[1;33m(\u001b[0m\u001b[1;34m\"Video\"\u001b[0m\u001b[1;33m,\u001b[0m \u001b[0mframe\u001b[0m\u001b[1;33m)\u001b[0m\u001b[1;33m\u001b[0m\u001b[1;33m\u001b[0m\u001b[0m\n",
      "\u001b[1;31mKeyboardInterrupt\u001b[0m: "
     ]
    }
   ],
   "source": [
    "#OpenCV is a library for computer vision. To play audio, you will have to use another library, thus ffpyplayer\n",
    "\n",
    "from ffpyplayer.player import MediaPlayer\n",
    "\n",
    "video_path='86 EIGHTY-SIX - Ending 1  Avid.mp4'\n",
    "\n",
    "def PlayVideo(video_path):\n",
    "    video=cv.VideoCapture(video_path)\n",
    "    player = MediaPlayer(video_path)\n",
    "    while True:\n",
    "        isTrue, frame=video.read()\n",
    "        audio_frame, val = player.get_frame()\n",
    "\n",
    "        if not isTrue:\n",
    "            break\n",
    "            \n",
    "        if cv.waitKey(28) & 0xFF == ord(\"q\"):\n",
    "            break\n",
    "        cv.imshow(\"Video\", frame)\n",
    "        \n",
    "        if val != 'eof' and audio_frame is not None:\n",
    "            #audio\n",
    "            img, t = audio_frame\n",
    "            \n",
    "    video.release()\n",
    "    cv.destroyAllWindows()\n",
    "    \n",
    "PlayVideo(video_path)"
   ]
  },
  {
   "cell_type": "code",
   "execution_count": null,
   "id": "1bf2afc0",
   "metadata": {
    "ExecuteTime": {
     "start_time": "2022-03-15T12:31:42.740Z"
    }
   },
   "outputs": [],
   "source": [
    "frameWidth = 640\n",
    "frameHeight = 480\n",
    "\n",
    "cap = cv.VideoCapture('86 EIGHTY-SIX - Ending 1  Avid.mp4')\n",
    "\n",
    "while True:\n",
    "    success,img = cap.read()\n",
    "    img = cv.resize(img, (frameWidth, frameHeight))\n",
    "    cv.imshow(\"Result\", img)\n",
    "    if cv.waitKey(1) and 0xFF == ord('q'):\n",
    "        break"
   ]
  },
  {
   "cell_type": "markdown",
   "id": "0d85a56f",
   "metadata": {},
   "source": [
    "<h3>Task 5: Edits</h3>"
   ]
  },
  {
   "cell_type": "code",
   "execution_count": 100,
   "id": "bba38b0c",
   "metadata": {
    "ExecuteTime": {
     "end_time": "2022-03-16T21:51:44.416979Z",
     "start_time": "2022-03-16T21:51:44.386995Z"
    }
   },
   "outputs": [],
   "source": [
    "img = cv.imread('arthur_tbate.webp')"
   ]
  },
  {
   "cell_type": "code",
   "execution_count": 84,
   "id": "7fdae606",
   "metadata": {
    "ExecuteTime": {
     "end_time": "2022-03-16T21:43:28.139544Z",
     "start_time": "2022-03-16T21:43:28.122551Z"
    }
   },
   "outputs": [
    {
     "data": {
      "text/plain": [
       "(1241, 822, 3)"
      ]
     },
     "execution_count": 84,
     "metadata": {},
     "output_type": "execute_result"
    }
   ],
   "source": [
    "img.shape"
   ]
  },
  {
   "cell_type": "code",
   "execution_count": null,
   "id": "b67bb6dd",
   "metadata": {},
   "outputs": [],
   "source": [
    "img[200:300, 300:400] = 0,255,0"
   ]
  },
  {
   "cell_type": "code",
   "execution_count": 104,
   "id": "42f02255",
   "metadata": {
    "ExecuteTime": {
     "end_time": "2022-03-16T21:53:55.215686Z",
     "start_time": "2022-03-16T21:53:52.805296Z"
    }
   },
   "outputs": [
    {
     "data": {
      "text/plain": [
       "True"
      ]
     },
     "execution_count": 104,
     "metadata": {},
     "output_type": "execute_result"
    }
   ],
   "source": [
    "c=0\n",
    "for i in img:\n",
    "    #print(len(i))\n",
    "    if np.all(i == 0):\n",
    "        c+=1\n",
    "    else:\n",
    "        break\n",
    "\n",
    "cropped = img[2*c:img.shape[0]-(c*2), c:img.shape[1]-c]\n",
    "\n",
    "cv.namedWindow(\"output\", cv.WINDOW_NORMAL)\n",
    "cv.imshow(\"output\", cropped)\n",
    "cv.waitKey(0)      \n",
    "cv.imwrite('arthur_tbate1.jpg',cropped)"
   ]
  },
  {
   "cell_type": "code",
   "execution_count": 86,
   "id": "67f84610",
   "metadata": {
    "ExecuteTime": {
     "end_time": "2022-03-16T21:43:34.485868Z",
     "start_time": "2022-03-16T21:43:34.467874Z"
    }
   },
   "outputs": [],
   "source": [
    "e=int(cropped.shape[0]-cropped.shape[0]//10)\n",
    "w=cropped.shape[1]-cropped.shape[1]//2"
   ]
  },
  {
   "cell_type": "code",
   "execution_count": 105,
   "id": "d418fc3d",
   "metadata": {
    "ExecuteTime": {
     "end_time": "2022-03-16T21:54:36.668887Z",
     "start_time": "2022-03-16T21:54:36.634890Z"
    }
   },
   "outputs": [],
   "source": [
    "img = cv.imread('arthur_tbate1.jpg')"
   ]
  },
  {
   "cell_type": "code",
   "execution_count": 106,
   "id": "8c2fc15c",
   "metadata": {
    "ExecuteTime": {
     "end_time": "2022-03-16T21:54:47.558484Z",
     "start_time": "2022-03-16T21:54:45.376663Z"
    }
   },
   "outputs": [
    {
     "data": {
      "text/plain": [
       "-1"
      ]
     },
     "execution_count": 106,
     "metadata": {},
     "output_type": "execute_result"
    }
   ],
   "source": [
    "edited=cropped[e:,w:]\n",
    "\n",
    "cv.namedWindow(\"output\", cv.WINDOW_NORMAL)\n",
    "cv.imshow(\"output\", img)\n",
    "cv.waitKey(0)      "
   ]
  },
  {
   "cell_type": "code",
   "execution_count": 98,
   "id": "d35d7b00",
   "metadata": {
    "ExecuteTime": {
     "end_time": "2022-03-16T21:51:36.042827Z",
     "start_time": "2022-03-16T21:51:36.004845Z"
    }
   },
   "outputs": [],
   "source": [
    "for i in range(edited.shape[0]):\n",
    "    for j in range(edited.shape[1]):\n",
    "        if np.all(edited[i][j])!=0:\n",
    "            edited[i:i+1,j+1:j+2]=0\n",
    "        \n",
    "        try:\n",
    "            if np.all(edited[i+2][j+2])==0:\n",
    "                break\n",
    "        except:\n",
    "            continue\n",
    "  "
   ]
  },
  {
   "cell_type": "code",
   "execution_count": 99,
   "id": "0abea40d",
   "metadata": {
    "ExecuteTime": {
     "end_time": "2022-03-16T21:51:40.176916Z",
     "start_time": "2022-03-16T21:51:37.317523Z"
    }
   },
   "outputs": [
    {
     "data": {
      "text/plain": [
       "-1"
      ]
     },
     "execution_count": 99,
     "metadata": {},
     "output_type": "execute_result"
    }
   ],
   "source": [
    "cv.namedWindow(\"output\", cv.WINDOW_NORMAL)\n",
    "cv.imshow(\"output\", edited)\n",
    "cv.waitKey(0)      "
   ]
  },
  {
   "cell_type": "code",
   "execution_count": 93,
   "id": "5563ae00",
   "metadata": {
    "ExecuteTime": {
     "end_time": "2022-03-16T21:44:59.338355Z",
     "start_time": "2022-03-16T21:44:53.505868Z"
    }
   },
   "outputs": [
    {
     "data": {
      "text/plain": [
       "-1"
      ]
     },
     "execution_count": 93,
     "metadata": {},
     "output_type": "execute_result"
    }
   ],
   "source": [
    "edited[:,:edited.shape[1]//4]=0    \n",
    "cv.namedWindow(\"output\", cv.WINDOW_NORMAL)\n",
    "cv.imshow(\"output\", edited)\n",
    "cv.waitKey(0)      "
   ]
  },
  {
   "cell_type": "code",
   "execution_count": 94,
   "id": "68a84b25",
   "metadata": {
    "ExecuteTime": {
     "end_time": "2022-03-16T21:45:09.076407Z",
     "start_time": "2022-03-16T21:45:06.584646Z"
    }
   },
   "outputs": [
    {
     "data": {
      "text/plain": [
       "-1"
      ]
     },
     "execution_count": 94,
     "metadata": {},
     "output_type": "execute_result"
    }
   ],
   "source": [
    "cv.namedWindow(\"output\", cv.WINDOW_NORMAL)\n",
    "cv.imshow(\"output\", edited)\n",
    "cv.waitKey(0)      "
   ]
  },
  {
   "cell_type": "code",
   "execution_count": 132,
   "id": "6a952f5f",
   "metadata": {
    "ExecuteTime": {
     "end_time": "2022-03-16T22:49:15.589590Z",
     "start_time": "2022-03-16T22:49:15.557939Z"
    }
   },
   "outputs": [],
   "source": [
    "def wallpaper_blur(img,dim):\n",
    "    # Blur \n",
    "    blur = cv.GaussianBlur(img, (101,101), cv.BORDER_DEFAULT)\n",
    "    \n",
    "    # Resize\n",
    "    resized_blur = cv.resize(blur, dim, interpolation=cv.INTER_CUBIC)\n",
    "    \n",
    "    cv.namedWindow(\"output\", cv.WINDOW_NORMAL)\n",
    "    cv.imshow(\"output\", resized_blur)\n",
    "    cv.waitKey(0)    \n",
    "    resized_blur.shape\n",
    "    blank = np.zeros(resized_blur.shape, dtype='uint8') \n",
    "    \n",
    "    if img.shape[:2] != dim:\n",
    "        factory=img.shape[1]/dim[1]\n",
    "        factorx=img.shape[0]/dim[0]\n",
    "        \n",
    "        if factorx<1 and factory<1:\n",
    "            \n",
    "            if factorx>factory:\n",
    "                new_dim=(int(img.shape[0]//factorx),int(img.shape[1]//factorx))\n",
    "                img_resized= cv.resize(img, new_dim, interpolation=cv.INTER_CUBIC)\n",
    "                blank[:,y:y+img_resized[1]]=img_resized\n",
    "            else:\n",
    "                new_dim=(int(img.shape[0]//factory),int(img.shape[1]//factory))\n",
    "                img_resized= cv.resize(img, new_dim, interpolation=cv.INTER_CUBIC)\n",
    "                blank[x:x,:]=img_resized\n",
    "        elif factorx>=1 and factory>=1:\n",
    "            \n",
    "            if factorx<factory:\n",
    "                new_dim=(int(img.shape[0]//factorx),int(img.shape[1]//factorx))\n",
    "                img_resized= cv.resize(img, new_dim, interpolation=cv.INTER_CUBIC)\n",
    "                blank[:,y:y+img_resized[1]]=img_resized\n",
    "            else:\n",
    "                new_dim=(int(img.shape[0]//factory),int(img.shape[1]//factory))\n",
    "                img_resized= cv.resize(img, new_dim, interpolation=cv.INTER_CUBIC)\n",
    "                blank[x:x,:]=img_resized\n",
    "\n",
    "            \n",
    "        cv.namedWindow(\"output\", cv.WINDOW_NORMAL)\n",
    "        cv.imshow(\"output\", img_resized)\n",
    "        cv.waitKey(0)\n",
    "        \n",
    "        cv.namedWindow(\"output\", cv.WINDOW_NORMAL)\n",
    "        cv.imshow(\"output\", blank)\n",
    "        cv.waitKey(0)\n",
    "\n",
    "        x=(blank.shape[0]-img_resized.shape[0])//2\n",
    "        y=(blank.shape[1]-img_resized.shape[1])//2\n",
    "\n",
    "        blank[x:x+img_resized[0],y:y+img_resized[1]]=img_resized[x:x+img_resized[0],y:y+img_resized[1]]\n",
    "        cv.namedWindow(\"output\", cv.WINDOW_NORMAL)\n",
    "        cv.imshow(\"output\", blank)\n",
    "        cv.waitKey(0)\n",
    "\n",
    "        \n",
    "        print(f'img:{img.shape}\\nBlank:{blank.shape}\\nimg_resized:{img_resized.shape}\\nresized_blur:{resized_blur.shape}')\n",
    "        \n",
    "#cv.imwrite('note60_tbate.jpg',img_resized)    "
   ]
  },
  {
   "cell_type": "code",
   "execution_count": 133,
   "id": "a036eb0f",
   "metadata": {
    "ExecuteTime": {
     "end_time": "2022-03-16T22:49:18.889159Z",
     "start_time": "2022-03-16T22:49:16.538629Z"
    }
   },
   "outputs": [
    {
     "ename": "UnboundLocalError",
     "evalue": "local variable 'x' referenced before assignment",
     "output_type": "error",
     "traceback": [
      "\u001b[1;31m---------------------------------------------------------------------------\u001b[0m",
      "\u001b[1;31mUnboundLocalError\u001b[0m                         Traceback (most recent call last)",
      "\u001b[1;32mC:\\Users\\HP15~1\\AppData\\Local\\Temp/ipykernel_3600/4004579653.py\u001b[0m in \u001b[0;36m<module>\u001b[1;34m\u001b[0m\n\u001b[0;32m      1\u001b[0m \u001b[0mimg\u001b[0m \u001b[1;33m=\u001b[0m \u001b[0mcv\u001b[0m\u001b[1;33m.\u001b[0m\u001b[0mimread\u001b[0m\u001b[1;33m(\u001b[0m\u001b[1;34m'note2_tbate.jpg'\u001b[0m\u001b[1;33m)\u001b[0m\u001b[1;33m\u001b[0m\u001b[1;33m\u001b[0m\u001b[0m\n\u001b[1;32m----> 2\u001b[1;33m \u001b[0mwallpaper_blur\u001b[0m\u001b[1;33m(\u001b[0m\u001b[0mimg\u001b[0m\u001b[1;33m,\u001b[0m\u001b[1;33m(\u001b[0m\u001b[1;36m2436\u001b[0m\u001b[1;33m,\u001b[0m\u001b[1;36m1125\u001b[0m\u001b[1;33m)\u001b[0m\u001b[1;33m)\u001b[0m\u001b[1;33m\u001b[0m\u001b[1;33m\u001b[0m\u001b[0m\n\u001b[0m",
      "\u001b[1;32mC:\\Users\\HP15~1\\AppData\\Local\\Temp/ipykernel_3600/3824904295.py\u001b[0m in \u001b[0;36mwallpaper_blur\u001b[1;34m(img, dim)\u001b[0m\n\u001b[0;32m     25\u001b[0m                 \u001b[0mnew_dim\u001b[0m\u001b[1;33m=\u001b[0m\u001b[1;33m(\u001b[0m\u001b[0mint\u001b[0m\u001b[1;33m(\u001b[0m\u001b[0mimg\u001b[0m\u001b[1;33m.\u001b[0m\u001b[0mshape\u001b[0m\u001b[1;33m[\u001b[0m\u001b[1;36m0\u001b[0m\u001b[1;33m]\u001b[0m\u001b[1;33m//\u001b[0m\u001b[0mfactory\u001b[0m\u001b[1;33m)\u001b[0m\u001b[1;33m,\u001b[0m\u001b[0mint\u001b[0m\u001b[1;33m(\u001b[0m\u001b[0mimg\u001b[0m\u001b[1;33m.\u001b[0m\u001b[0mshape\u001b[0m\u001b[1;33m[\u001b[0m\u001b[1;36m1\u001b[0m\u001b[1;33m]\u001b[0m\u001b[1;33m//\u001b[0m\u001b[0mfactory\u001b[0m\u001b[1;33m)\u001b[0m\u001b[1;33m)\u001b[0m\u001b[1;33m\u001b[0m\u001b[1;33m\u001b[0m\u001b[0m\n\u001b[0;32m     26\u001b[0m                 \u001b[0mimg_resized\u001b[0m\u001b[1;33m=\u001b[0m \u001b[0mcv\u001b[0m\u001b[1;33m.\u001b[0m\u001b[0mresize\u001b[0m\u001b[1;33m(\u001b[0m\u001b[0mimg\u001b[0m\u001b[1;33m,\u001b[0m \u001b[0mnew_dim\u001b[0m\u001b[1;33m,\u001b[0m \u001b[0minterpolation\u001b[0m\u001b[1;33m=\u001b[0m\u001b[0mcv\u001b[0m\u001b[1;33m.\u001b[0m\u001b[0mINTER_CUBIC\u001b[0m\u001b[1;33m)\u001b[0m\u001b[1;33m\u001b[0m\u001b[1;33m\u001b[0m\u001b[0m\n\u001b[1;32m---> 27\u001b[1;33m                 \u001b[0mblank\u001b[0m\u001b[1;33m[\u001b[0m\u001b[0mx\u001b[0m\u001b[1;33m:\u001b[0m\u001b[0mx\u001b[0m\u001b[1;33m,\u001b[0m\u001b[1;33m:\u001b[0m\u001b[1;33m]\u001b[0m\u001b[1;33m=\u001b[0m\u001b[0mimg_resized\u001b[0m\u001b[1;33m\u001b[0m\u001b[1;33m\u001b[0m\u001b[0m\n\u001b[0m\u001b[0;32m     28\u001b[0m         \u001b[1;32melif\u001b[0m \u001b[0mfactorx\u001b[0m\u001b[1;33m>=\u001b[0m\u001b[1;36m1\u001b[0m \u001b[1;32mand\u001b[0m \u001b[0mfactory\u001b[0m\u001b[1;33m>=\u001b[0m\u001b[1;36m1\u001b[0m\u001b[1;33m:\u001b[0m\u001b[1;33m\u001b[0m\u001b[1;33m\u001b[0m\u001b[0m\n\u001b[0;32m     29\u001b[0m \u001b[1;33m\u001b[0m\u001b[0m\n",
      "\u001b[1;31mUnboundLocalError\u001b[0m: local variable 'x' referenced before assignment"
     ]
    }
   ],
   "source": [
    "img = cv.imread('note2_tbate.jpg')\n",
    "wallpaper_blur(img,(2436,1125))\n"
   ]
  },
  {
   "cell_type": "markdown",
   "id": "68612257",
   "metadata": {
    "ExecuteTime": {
     "end_time": "2022-03-15T12:45:18.815504Z",
     "start_time": "2022-03-15T12:45:18.797496Z"
    }
   },
   "source": [
    "iphone: 1125, 2436\n",
    "wallpaper:  1920,1200 "
   ]
  },
  {
   "cell_type": "code",
   "execution_count": 3,
   "id": "b492f9e4",
   "metadata": {
    "ExecuteTime": {
     "end_time": "2022-03-16T20:48:07.757391Z",
     "start_time": "2022-03-16T20:47:53.729703Z"
    }
   },
   "outputs": [
    {
     "data": {
      "text/plain": [
       "-1"
      ]
     },
     "execution_count": 3,
     "metadata": {},
     "output_type": "execute_result"
    }
   ],
   "source": [
    "img1_resized= cv.resize(img, (2436,1125), interpolation=cv.INTER_CUBIC)\n",
    "\n",
    "cv.namedWindow(\"output\", cv.WINDOW_NORMAL)\n",
    "cv.imshow(\"output\", img1_resized)\n",
    "cv.waitKey(0)"
   ]
  },
  {
   "cell_type": "code",
   "execution_count": 23,
   "id": "666803ee",
   "metadata": {
    "ExecuteTime": {
     "end_time": "2022-03-15T12:45:45.701545Z",
     "start_time": "2022-03-15T12:45:45.693545Z"
    }
   },
   "outputs": [
    {
     "data": {
      "text/plain": [
       "0.4618226600985222"
      ]
     },
     "execution_count": 23,
     "metadata": {},
     "output_type": "execute_result"
    }
   ],
   "source": [
    "1125/2436"
   ]
  },
  {
   "cell_type": "code",
   "execution_count": null,
   "id": "cc8a4676",
   "metadata": {
    "ExecuteTime": {
     "end_time": "2022-03-16T20:57:43.663726Z",
     "start_time": "2022-03-16T20:57:43.644737Z"
    }
   },
   "outputs": [],
   "source": []
  },
  {
   "cell_type": "code",
   "execution_count": null,
   "id": "ac8ec47b",
   "metadata": {},
   "outputs": [],
   "source": []
  }
 ],
 "metadata": {
  "kernelspec": {
   "display_name": "Python 3 (ipykernel)",
   "language": "python",
   "name": "python3"
  },
  "language_info": {
   "codemirror_mode": {
    "name": "ipython",
    "version": 3
   },
   "file_extension": ".py",
   "mimetype": "text/x-python",
   "name": "python",
   "nbconvert_exporter": "python",
   "pygments_lexer": "ipython3",
   "version": "3.9.6"
  }
 },
 "nbformat": 4,
 "nbformat_minor": 5
}
