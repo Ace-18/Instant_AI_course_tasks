{
 "cells": [
  {
   "cell_type": "code",
   "execution_count": 96,
   "id": "b46a0d8a",
   "metadata": {
    "ExecuteTime": {
     "end_time": "2022-03-21T21:02:28.615415Z",
     "start_time": "2022-03-21T21:02:28.591429Z"
    }
   },
   "outputs": [],
   "source": [
    "import pandas as pd\n",
    "import numpy as np\n",
    "from sklearn import linear_model"
   ]
  },
  {
   "cell_type": "markdown",
   "id": "421df321",
   "metadata": {},
   "source": [
    "<h3>Task 1: Normalize the data</h3>"
   ]
  },
  {
   "cell_type": "code",
   "execution_count": null,
   "id": "7ebdd3ca",
   "metadata": {},
   "outputs": [],
   "source": []
  },
  {
   "cell_type": "markdown",
   "id": "ae0c013c",
   "metadata": {},
   "source": [
    "<h3>Task 2: Change the parameters of the Linear Regression function</h3>"
   ]
  },
  {
   "cell_type": "code",
   "execution_count": null,
   "id": "58ebf224",
   "metadata": {},
   "outputs": [],
   "source": []
  },
  {
   "cell_type": "markdown",
   "id": "8823d3be",
   "metadata": {
    "ExecuteTime": {
     "end_time": "2022-03-21T18:31:41.317573Z",
     "start_time": "2022-03-21T18:31:41.300582Z"
    }
   },
   "source": [
    "<h3>Task 3: Convert String Column to truth table</h3>"
   ]
  },
  {
   "cell_type": "code",
   "execution_count": 208,
   "id": "886c1b4e",
   "metadata": {
    "ExecuteTime": {
     "end_time": "2022-03-21T21:25:11.684201Z",
     "start_time": "2022-03-21T21:25:11.661216Z"
    }
   },
   "outputs": [
    {
     "data": {
      "text/html": [
       "<div>\n",
       "<style scoped>\n",
       "    .dataframe tbody tr th:only-of-type {\n",
       "        vertical-align: middle;\n",
       "    }\n",
       "\n",
       "    .dataframe tbody tr th {\n",
       "        vertical-align: top;\n",
       "    }\n",
       "\n",
       "    .dataframe thead th {\n",
       "        text-align: right;\n",
       "    }\n",
       "</style>\n",
       "<table border=\"1\" class=\"dataframe\">\n",
       "  <thead>\n",
       "    <tr style=\"text-align: right;\">\n",
       "      <th></th>\n",
       "      <th>Name</th>\n",
       "      <th>Age</th>\n",
       "      <th>City</th>\n",
       "    </tr>\n",
       "  </thead>\n",
       "  <tbody>\n",
       "    <tr>\n",
       "      <th>0</th>\n",
       "      <td>a</td>\n",
       "      <td>20</td>\n",
       "      <td>A</td>\n",
       "    </tr>\n",
       "    <tr>\n",
       "      <th>1</th>\n",
       "      <td>b</td>\n",
       "      <td>21</td>\n",
       "      <td>B</td>\n",
       "    </tr>\n",
       "    <tr>\n",
       "      <th>2</th>\n",
       "      <td>c</td>\n",
       "      <td>22</td>\n",
       "      <td>A</td>\n",
       "    </tr>\n",
       "    <tr>\n",
       "      <th>3</th>\n",
       "      <td>d</td>\n",
       "      <td>20</td>\n",
       "      <td>A</td>\n",
       "    </tr>\n",
       "    <tr>\n",
       "      <th>4</th>\n",
       "      <td>e</td>\n",
       "      <td>19</td>\n",
       "      <td>B</td>\n",
       "    </tr>\n",
       "  </tbody>\n",
       "</table>\n",
       "</div>"
      ],
      "text/plain": [
       "  Name  Age City\n",
       "0    a   20    A\n",
       "1    b   21    B\n",
       "2    c   22    A\n",
       "3    d   20    A\n",
       "4    e   19    B"
      ]
     },
     "execution_count": 208,
     "metadata": {},
     "output_type": "execute_result"
    }
   ],
   "source": [
    "data={'Name':['a','b','c','d','e'],'Age':[20,21,22,20,19],'City':['A','B','A','A','B']}\n",
    "df=pd.DataFrame(data)\n",
    "df"
   ]
  },
  {
   "cell_type": "code",
   "execution_count": 204,
   "id": "24f9793e",
   "metadata": {
    "ExecuteTime": {
     "end_time": "2022-03-21T21:24:34.257938Z",
     "start_time": "2022-03-21T21:24:34.242047Z"
    }
   },
   "outputs": [],
   "source": [
    "def make_truthtable1(df,col):\n",
    "    a=pd.crosstab(df[df.columns[0]],df[col])\n",
    "    a.reset_index(inplace=True)\n",
    "    for i in a.columns:\n",
    "        df[i]=a[i]\n",
    "        "
   ]
  },
  {
   "cell_type": "code",
   "execution_count": 205,
   "id": "687e91ab",
   "metadata": {
    "ExecuteTime": {
     "end_time": "2022-03-21T21:24:34.595751Z",
     "start_time": "2022-03-21T21:24:34.538779Z"
    }
   },
   "outputs": [
    {
     "data": {
      "text/html": [
       "<div>\n",
       "<style scoped>\n",
       "    .dataframe tbody tr th:only-of-type {\n",
       "        vertical-align: middle;\n",
       "    }\n",
       "\n",
       "    .dataframe tbody tr th {\n",
       "        vertical-align: top;\n",
       "    }\n",
       "\n",
       "    .dataframe thead th {\n",
       "        text-align: right;\n",
       "    }\n",
       "</style>\n",
       "<table border=\"1\" class=\"dataframe\">\n",
       "  <thead>\n",
       "    <tr style=\"text-align: right;\">\n",
       "      <th></th>\n",
       "      <th>Name</th>\n",
       "      <th>Age</th>\n",
       "      <th>City</th>\n",
       "      <th>A</th>\n",
       "      <th>B</th>\n",
       "    </tr>\n",
       "  </thead>\n",
       "  <tbody>\n",
       "    <tr>\n",
       "      <th>0</th>\n",
       "      <td>a</td>\n",
       "      <td>20</td>\n",
       "      <td>A</td>\n",
       "      <td>1</td>\n",
       "      <td>0</td>\n",
       "    </tr>\n",
       "    <tr>\n",
       "      <th>1</th>\n",
       "      <td>b</td>\n",
       "      <td>21</td>\n",
       "      <td>B</td>\n",
       "      <td>0</td>\n",
       "      <td>1</td>\n",
       "    </tr>\n",
       "    <tr>\n",
       "      <th>2</th>\n",
       "      <td>c</td>\n",
       "      <td>22</td>\n",
       "      <td>A</td>\n",
       "      <td>1</td>\n",
       "      <td>0</td>\n",
       "    </tr>\n",
       "    <tr>\n",
       "      <th>3</th>\n",
       "      <td>d</td>\n",
       "      <td>20</td>\n",
       "      <td>A</td>\n",
       "      <td>1</td>\n",
       "      <td>0</td>\n",
       "    </tr>\n",
       "    <tr>\n",
       "      <th>4</th>\n",
       "      <td>e</td>\n",
       "      <td>19</td>\n",
       "      <td>B</td>\n",
       "      <td>0</td>\n",
       "      <td>1</td>\n",
       "    </tr>\n",
       "  </tbody>\n",
       "</table>\n",
       "</div>"
      ],
      "text/plain": [
       "  Name  Age City  A  B\n",
       "0    a   20    A  1  0\n",
       "1    b   21    B  0  1\n",
       "2    c   22    A  1  0\n",
       "3    d   20    A  1  0\n",
       "4    e   19    B  0  1"
      ]
     },
     "execution_count": 205,
     "metadata": {},
     "output_type": "execute_result"
    }
   ],
   "source": [
    "make_truthtable1(df,'City')\n",
    "df"
   ]
  },
  {
   "cell_type": "code",
   "execution_count": 213,
   "id": "aa22e58b",
   "metadata": {
    "ExecuteTime": {
     "end_time": "2022-03-21T21:26:27.419512Z",
     "start_time": "2022-03-21T21:26:27.396524Z"
    }
   },
   "outputs": [],
   "source": [
    "def make_truthtable2(df,col):\n",
    "    truthtable={}\n",
    "    for key in df[col].unique():\n",
    "        truthtable[key]=[0 for i in range(len(col))]\n",
    "        \n",
    "        \n",
    "    for i,r in enumerate(df[col]):\n",
    "        for key in truthtable.keys():\n",
    "            if r==key:\n",
    "                truthtable[key][i]=1\n",
    "                break\n",
    "    pd.concat()    \n",
    "    return pd.concat([df,pd.DataFrame(truthtable)],axis=1)"
   ]
  },
  {
   "cell_type": "code",
   "execution_count": 212,
   "id": "d25f6347",
   "metadata": {
    "ExecuteTime": {
     "end_time": "2022-03-21T21:25:50.972215Z",
     "start_time": "2022-03-21T21:25:50.928241Z"
    }
   },
   "outputs": [
    {
     "ename": "IndexError",
     "evalue": "list assignment index out of range",
     "output_type": "error",
     "traceback": [
      "\u001b[1;31m---------------------------------------------------------------------------\u001b[0m",
      "\u001b[1;31mIndexError\u001b[0m                                Traceback (most recent call last)",
      "\u001b[1;32mC:\\Users\\HP15~1\\AppData\\Local\\Temp/ipykernel_17836/2597882660.py\u001b[0m in \u001b[0;36m<module>\u001b[1;34m\u001b[0m\n\u001b[1;32m----> 1\u001b[1;33m \u001b[0mw\u001b[0m\u001b[1;33m=\u001b[0m\u001b[0mmake_truthtable\u001b[0m\u001b[1;33m(\u001b[0m\u001b[0mdf\u001b[0m\u001b[1;33m,\u001b[0m\u001b[1;34m'City'\u001b[0m\u001b[1;33m)\u001b[0m\u001b[1;33m\u001b[0m\u001b[1;33m\u001b[0m\u001b[0m\n\u001b[0m\u001b[0;32m      2\u001b[0m \u001b[0mw\u001b[0m\u001b[1;33m\u001b[0m\u001b[1;33m\u001b[0m\u001b[0m\n",
      "\u001b[1;32mC:\\Users\\HP15~1\\AppData\\Local\\Temp/ipykernel_17836/3379523948.py\u001b[0m in \u001b[0;36mmake_truthtable\u001b[1;34m(df, col, dropold)\u001b[0m\n\u001b[0;32m      7\u001b[0m         \u001b[1;32mfor\u001b[0m \u001b[0mkey\u001b[0m \u001b[1;32min\u001b[0m \u001b[0mtruthtable\u001b[0m\u001b[1;33m.\u001b[0m\u001b[0mkeys\u001b[0m\u001b[1;33m(\u001b[0m\u001b[1;33m)\u001b[0m\u001b[1;33m:\u001b[0m\u001b[1;33m\u001b[0m\u001b[1;33m\u001b[0m\u001b[0m\n\u001b[0;32m      8\u001b[0m             \u001b[1;32mif\u001b[0m \u001b[0mr\u001b[0m\u001b[1;33m==\u001b[0m\u001b[0mkey\u001b[0m\u001b[1;33m:\u001b[0m\u001b[1;33m\u001b[0m\u001b[1;33m\u001b[0m\u001b[0m\n\u001b[1;32m----> 9\u001b[1;33m                 \u001b[0mtruthtable\u001b[0m\u001b[1;33m[\u001b[0m\u001b[0mkey\u001b[0m\u001b[1;33m]\u001b[0m\u001b[1;33m[\u001b[0m\u001b[0mi\u001b[0m\u001b[1;33m]\u001b[0m\u001b[1;33m=\u001b[0m\u001b[1;36m1\u001b[0m\u001b[1;33m\u001b[0m\u001b[1;33m\u001b[0m\u001b[0m\n\u001b[0m\u001b[0;32m     10\u001b[0m                 \u001b[1;32mbreak\u001b[0m\u001b[1;33m\u001b[0m\u001b[1;33m\u001b[0m\u001b[0m\n\u001b[0;32m     11\u001b[0m \u001b[1;33m\u001b[0m\u001b[0m\n",
      "\u001b[1;31mIndexError\u001b[0m: list assignment index out of range"
     ]
    }
   ],
   "source": [
    "w=make_truthtable(df,'City')\n",
    "w"
   ]
  },
  {
   "cell_type": "markdown",
   "id": "c0172df4",
   "metadata": {
    "ExecuteTime": {
     "end_time": "2022-03-21T18:32:15.988634Z",
     "start_time": "2022-03-21T18:32:15.967651Z"
    }
   },
   "source": [
    "<h3>Task 4: Convert Dataframe to NumPy array</h3>"
   ]
  },
  {
   "cell_type": "code",
   "execution_count": 46,
   "id": "d38f3233",
   "metadata": {
    "ExecuteTime": {
     "end_time": "2022-03-21T19:26:23.433883Z",
     "start_time": "2022-03-21T19:26:23.409889Z"
    }
   },
   "outputs": [
    {
     "data": {
      "text/plain": [
       "array([['a', 16, 'A', 0, 0],\n",
       "       ['b', 21, 'B', 0, 0],\n",
       "       ['c', 16, 'A', 0, 0],\n",
       "       ['d', 20, 'A', 0, 0]], dtype=object)"
      ]
     },
     "execution_count": 46,
     "metadata": {},
     "output_type": "execute_result"
    }
   ],
   "source": [
    "df.to_numpy()\n"
   ]
  }
 ],
 "metadata": {
  "kernelspec": {
   "display_name": "Python 3 (ipykernel)",
   "language": "python",
   "name": "python3"
  },
  "language_info": {
   "codemirror_mode": {
    "name": "ipython",
    "version": 3
   },
   "file_extension": ".py",
   "mimetype": "text/x-python",
   "name": "python",
   "nbconvert_exporter": "python",
   "pygments_lexer": "ipython3",
   "version": "3.9.6"
  }
 },
 "nbformat": 4,
 "nbformat_minor": 5
}
