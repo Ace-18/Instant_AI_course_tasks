{
 "cells": [
  {
   "cell_type": "markdown",
   "id": "b01cc19d",
   "metadata": {},
   "source": [
    "<h3>Task 1: Activation function in machine learning</h3>\n",
    "\n",
    "<p>Activation function is a function that is added into an artificial neural network in order to help the network learn complex patterns in the data. When comparing with a neuron-based model that is in our brains, the activation function is at the end deciding what is to be fired to the next neuron.</p>  "
   ]
  },
  {
   "cell_type": "markdown",
   "id": "dbc2b07f",
   "metadata": {},
   "source": []
  },
  {
   "cell_type": "markdown",
   "id": "ff91941a",
   "metadata": {},
   "source": [
    "<h3>Task 2: Notebook 8_logistic_regression_multiclass exercise</h3>\n",
    "\n",
    "<h4>Exercise</h4>\n",
    "\n",
    "Use sklearn.datasets iris flower dataset to train your model using logistic regression. You need to figure out accuracy \n",
    "of your model and use that to predict different samples in your test dataset. In iris dataset there are 150 samples containing following features,\n",
    "\n",
    "1. Sepal Length\n",
    "2. Sepal Width \n",
    "3. Petal Length \n",
    "4. Petal Width\n",
    "\n",
    "Using above 4 features you will clasify a flower in one of the three categories,\n",
    "\n",
    "1. Setosa\n",
    "2. Versicolour\n",
    "3. Virginica"
   ]
  },
  {
   "cell_type": "code",
   "execution_count": 8,
   "id": "b814553d",
   "metadata": {
    "ExecuteTime": {
     "end_time": "2022-03-25T22:38:55.894893Z",
     "start_time": "2022-03-25T22:38:55.710686Z"
    }
   },
   "outputs": [],
   "source": [
    "from sklearn.datasets import load_iris\n",
    "from sklearn.linear_model import LogisticRegression\n",
    "from sklearn.model_selection import train_test_split"
   ]
  },
  {
   "cell_type": "code",
   "execution_count": 20,
   "id": "86c0c815",
   "metadata": {
    "ExecuteTime": {
     "end_time": "2022-03-25T22:45:41.185529Z",
     "start_time": "2022-03-25T22:45:41.165251Z"
    }
   },
   "outputs": [],
   "source": [
    "iris=load_iris()\n",
    "x=iris.data\n",
    "y=iris.target"
   ]
  },
  {
   "cell_type": "code",
   "execution_count": 10,
   "id": "d51a0911",
   "metadata": {
    "ExecuteTime": {
     "end_time": "2022-03-25T22:38:58.816820Z",
     "start_time": "2022-03-25T22:38:58.801536Z"
    }
   },
   "outputs": [],
   "source": [
    "model = LogisticRegression()"
   ]
  },
  {
   "cell_type": "code",
   "execution_count": 16,
   "id": "be38d9e5",
   "metadata": {
    "ExecuteTime": {
     "end_time": "2022-03-25T22:43:38.489319Z",
     "start_time": "2022-03-25T22:43:38.471349Z"
    }
   },
   "outputs": [],
   "source": [
    "X_train, X_test, y_train, y_test = train_test_split(iris.data,iris.target, test_size=0.2)"
   ]
  },
  {
   "cell_type": "code",
   "execution_count": 17,
   "id": "96bf4f05",
   "metadata": {
    "ExecuteTime": {
     "end_time": "2022-03-25T22:43:48.343724Z",
     "start_time": "2022-03-25T22:43:48.248827Z"
    }
   },
   "outputs": [
    {
     "data": {
      "text/plain": [
       "LogisticRegression()"
      ]
     },
     "execution_count": 17,
     "metadata": {},
     "output_type": "execute_result"
    }
   ],
   "source": [
    "model.fit(X_train, y_train)"
   ]
  },
  {
   "cell_type": "code",
   "execution_count": 19,
   "id": "ef5ae824",
   "metadata": {
    "ExecuteTime": {
     "end_time": "2022-03-25T22:44:13.590030Z",
     "start_time": "2022-03-25T22:44:13.571039Z"
    }
   },
   "outputs": [
    {
     "data": {
      "text/plain": [
       "0.9666666666666667"
      ]
     },
     "execution_count": 19,
     "metadata": {},
     "output_type": "execute_result"
    }
   ],
   "source": [
    "#Measuring Accuracy\n",
    "model.score(X_test, y_test)"
   ]
  },
  {
   "cell_type": "raw",
   "id": "a44d2824",
   "metadata": {},
   "source": []
  },
  {
   "cell_type": "code",
   "execution_count": 35,
   "id": "98e71837",
   "metadata": {
    "ExecuteTime": {
     "end_time": "2022-03-25T22:54:06.842236Z",
     "start_time": "2022-03-25T22:54:06.836244Z"
    }
   },
   "outputs": [],
   "source": [
    "#Number of values to be predicted \n",
    "t="
   ]
  },
  {
   "cell_type": "code",
   "execution_count": 36,
   "id": "ea177bd6",
   "metadata": {
    "ExecuteTime": {
     "end_time": "2022-03-25T22:54:10.179188Z",
     "start_time": "2022-03-25T22:54:10.158195Z"
    }
   },
   "outputs": [
    {
     "data": {
      "text/plain": [
       "array([2, 2, 1, 1, 1, 2, 1, 1, 1, 1])"
      ]
     },
     "execution_count": 36,
     "metadata": {},
     "output_type": "execute_result"
    }
   ],
   "source": [
    "y1=model.predict(X_test[0:t])\n",
    "y1"
   ]
  },
  {
   "cell_type": "raw",
   "id": "7803401d",
   "metadata": {},
   "source": []
  },
  {
   "cell_type": "code",
   "execution_count": 65,
   "id": "48cc1d6e",
   "metadata": {
    "ExecuteTime": {
     "end_time": "2022-03-25T23:59:01.716359Z",
     "start_time": "2022-03-25T23:59:01.700361Z"
    }
   },
   "outputs": [],
   "source": [
    "for i in y1:\n",
    "    print(iris.target_names[i])"
   ]
  },
  {
   "cell_type": "code",
   "execution_count": 66,
   "id": "244c80e4",
   "metadata": {
    "ExecuteTime": {
     "end_time": "2022-03-25T23:59:09.718203Z",
     "start_time": "2022-03-25T23:59:09.710205Z"
    }
   },
   "outputs": [],
   "source": [
    "for i in y_test[0:t]:\n",
    "    print(iris.target_names[i])\n",
    "    "
   ]
  },
  {
   "cell_type": "raw",
   "id": "106710a7",
   "metadata": {},
   "source": []
  },
  {
   "cell_type": "code",
   "execution_count": 69,
   "id": "718d8d3f",
   "metadata": {
    "ExecuteTime": {
     "end_time": "2022-03-26T00:00:19.493085Z",
     "start_time": "2022-03-26T00:00:19.485085Z"
    }
   },
   "outputs": [],
   "source": [
    "for i in range(t):\n",
    "    print(f'Model:{iris.target_names[y1[i]]} \\tReal:{iris.target_names[y_test[i]]}\\t {y1[i]==y_test[i]}')"
   ]
  }
 ],
 "metadata": {
  "kernelspec": {
   "display_name": "Python 3 (ipykernel)",
   "language": "python",
   "name": "python3"
  },
  "language_info": {
   "codemirror_mode": {
    "name": "ipython",
    "version": 3
   },
   "file_extension": ".py",
   "mimetype": "text/x-python",
   "name": "python",
   "nbconvert_exporter": "python",
   "pygments_lexer": "ipython3",
   "version": "3.9.6"
  }
 },
 "nbformat": 4,
 "nbformat_minor": 5
}
