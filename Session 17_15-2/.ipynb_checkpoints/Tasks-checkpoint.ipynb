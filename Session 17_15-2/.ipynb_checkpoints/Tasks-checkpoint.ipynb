{
 "cells": [
  {
   "cell_type": "code",
   "execution_count": 43,
   "id": "264a7387",
   "metadata": {
    "ExecuteTime": {
     "end_time": "2022-02-19T13:01:14.675299Z",
     "start_time": "2022-02-19T13:01:14.661306Z"
    }
   },
   "outputs": [],
   "source": [
    "import pandas as pd\n",
    "import numpy as np"
   ]
  },
  {
   "cell_type": "code",
   "execution_count": 44,
   "id": "d61231bf",
   "metadata": {
    "ExecuteTime": {
     "end_time": "2022-02-19T13:01:15.186133Z",
     "start_time": "2022-02-19T13:01:15.174553Z"
    }
   },
   "outputs": [],
   "source": [
    "columns=[\"Name\", \"Age\",\"Gender\"]\n",
    "dict1={\n",
    "    \"Name\":[\"Ahmad\",\"Yasser\",\"Mohamed\",\"Raafat\",\"Zaki\",\"Eyad\",\"Khaled\",\"Ali\",\"Moaz\",\"Tamer\"], \n",
    "    \"Age\":[22,18,15,22,30,21,20,19,35,23],\n",
    "    \"ID\":[i for i in range(10)]\n",
    "}"
   ]
  },
  {
   "cell_type": "code",
   "execution_count": null,
   "id": "4a4bba53",
   "metadata": {},
   "outputs": [],
   "source": []
  },
  {
   "cell_type": "code",
   "execution_count": null,
   "id": "61bc0b49",
   "metadata": {
    "ExecuteTime": {
     "end_time": "2022-02-19T11:59:18.887997Z",
     "start_time": "2022-02-19T11:59:18.872004Z"
    }
   },
   "outputs": [],
   "source": [
    "data='float16'\n",
    "print(f'{np.finfo(data).min} to {np.finfo(data).max}')\n"
   ]
  },
  {
   "cell_type": "code",
   "execution_count": 45,
   "id": "61780b71",
   "metadata": {
    "ExecuteTime": {
     "end_time": "2022-02-19T13:01:18.892881Z",
     "start_time": "2022-02-19T13:01:18.870895Z"
    }
   },
   "outputs": [
    {
     "data": {
      "text/html": [
       "<div>\n",
       "<style scoped>\n",
       "    .dataframe tbody tr th:only-of-type {\n",
       "        vertical-align: middle;\n",
       "    }\n",
       "\n",
       "    .dataframe tbody tr th {\n",
       "        vertical-align: top;\n",
       "    }\n",
       "\n",
       "    .dataframe thead th {\n",
       "        text-align: right;\n",
       "    }\n",
       "</style>\n",
       "<table border=\"1\" class=\"dataframe\">\n",
       "  <thead>\n",
       "    <tr style=\"text-align: right;\">\n",
       "      <th></th>\n",
       "      <th>Name</th>\n",
       "      <th>Age</th>\n",
       "      <th>ID</th>\n",
       "    </tr>\n",
       "  </thead>\n",
       "  <tbody>\n",
       "    <tr>\n",
       "      <th>0</th>\n",
       "      <td>Ahmad</td>\n",
       "      <td>22</td>\n",
       "      <td>0</td>\n",
       "    </tr>\n",
       "    <tr>\n",
       "      <th>1</th>\n",
       "      <td>Yasser</td>\n",
       "      <td>18</td>\n",
       "      <td>1</td>\n",
       "    </tr>\n",
       "    <tr>\n",
       "      <th>2</th>\n",
       "      <td>Mohamed</td>\n",
       "      <td>15</td>\n",
       "      <td>2</td>\n",
       "    </tr>\n",
       "    <tr>\n",
       "      <th>3</th>\n",
       "      <td>Raafat</td>\n",
       "      <td>22</td>\n",
       "      <td>3</td>\n",
       "    </tr>\n",
       "    <tr>\n",
       "      <th>4</th>\n",
       "      <td>Zaki</td>\n",
       "      <td>30</td>\n",
       "      <td>4</td>\n",
       "    </tr>\n",
       "    <tr>\n",
       "      <th>5</th>\n",
       "      <td>Eyad</td>\n",
       "      <td>21</td>\n",
       "      <td>5</td>\n",
       "    </tr>\n",
       "    <tr>\n",
       "      <th>6</th>\n",
       "      <td>Khaled</td>\n",
       "      <td>20</td>\n",
       "      <td>6</td>\n",
       "    </tr>\n",
       "    <tr>\n",
       "      <th>7</th>\n",
       "      <td>Ali</td>\n",
       "      <td>19</td>\n",
       "      <td>7</td>\n",
       "    </tr>\n",
       "    <tr>\n",
       "      <th>8</th>\n",
       "      <td>Moaz</td>\n",
       "      <td>35</td>\n",
       "      <td>8</td>\n",
       "    </tr>\n",
       "    <tr>\n",
       "      <th>9</th>\n",
       "      <td>Tamer</td>\n",
       "      <td>23</td>\n",
       "      <td>9</td>\n",
       "    </tr>\n",
       "  </tbody>\n",
       "</table>\n",
       "</div>"
      ],
      "text/plain": [
       "      Name  Age  ID\n",
       "0    Ahmad   22   0\n",
       "1   Yasser   18   1\n",
       "2  Mohamed   15   2\n",
       "3   Raafat   22   3\n",
       "4     Zaki   30   4\n",
       "5     Eyad   21   5\n",
       "6   Khaled   20   6\n",
       "7      Ali   19   7\n",
       "8     Moaz   35   8\n",
       "9    Tamer   23   9"
      ]
     },
     "execution_count": 45,
     "metadata": {},
     "output_type": "execute_result"
    }
   ],
   "source": [
    "df=pd.DataFrame(dict1)\n",
    "df"
   ]
  },
  {
   "cell_type": "code",
   "execution_count": 55,
   "id": "9a913a2c",
   "metadata": {
    "ExecuteTime": {
     "end_time": "2022-02-19T13:17:07.035076Z",
     "start_time": "2022-02-19T13:17:07.011091Z"
    }
   },
   "outputs": [
    {
     "data": {
      "text/html": [
       "<div>\n",
       "<style scoped>\n",
       "    .dataframe tbody tr th:only-of-type {\n",
       "        vertical-align: middle;\n",
       "    }\n",
       "\n",
       "    .dataframe tbody tr th {\n",
       "        vertical-align: top;\n",
       "    }\n",
       "\n",
       "    .dataframe thead th {\n",
       "        text-align: right;\n",
       "    }\n",
       "</style>\n",
       "<table border=\"1\" class=\"dataframe\">\n",
       "  <thead>\n",
       "    <tr style=\"text-align: right;\">\n",
       "      <th></th>\n",
       "      <th>Name</th>\n",
       "      <th>Age</th>\n",
       "      <th>ID</th>\n",
       "    </tr>\n",
       "  </thead>\n",
       "  <tbody>\n",
       "    <tr>\n",
       "      <th>8</th>\n",
       "      <td>Moaz</td>\n",
       "      <td>35</td>\n",
       "      <td>8</td>\n",
       "    </tr>\n",
       "    <tr>\n",
       "      <th>4</th>\n",
       "      <td>Zaki</td>\n",
       "      <td>30</td>\n",
       "      <td>4</td>\n",
       "    </tr>\n",
       "    <tr>\n",
       "      <th>9</th>\n",
       "      <td>Tamer</td>\n",
       "      <td>23</td>\n",
       "      <td>9</td>\n",
       "    </tr>\n",
       "  </tbody>\n",
       "</table>\n",
       "</div>"
      ],
      "text/plain": [
       "    Name  Age  ID\n",
       "8   Moaz   35   8\n",
       "4   Zaki   30   4\n",
       "9  Tamer   23   9"
      ]
     },
     "execution_count": 55,
     "metadata": {},
     "output_type": "execute_result"
    }
   ],
   "source": [
    "#Task 4: How to read random rows\n",
    "\n",
    "#to select random rows\n",
    "df2=pd.DataFrame(dict1).sample(n = 3) #n: number of rows\n",
    "df2 "
   ]
  },
  {
   "cell_type": "code",
   "execution_count": 56,
   "id": "49eef5d5",
   "metadata": {
    "ExecuteTime": {
     "end_time": "2022-02-19T13:17:09.327985Z",
     "start_time": "2022-02-19T13:17:09.307999Z"
    }
   },
   "outputs": [
    {
     "data": {
      "text/html": [
       "<div>\n",
       "<style scoped>\n",
       "    .dataframe tbody tr th:only-of-type {\n",
       "        vertical-align: middle;\n",
       "    }\n",
       "\n",
       "    .dataframe tbody tr th {\n",
       "        vertical-align: top;\n",
       "    }\n",
       "\n",
       "    .dataframe thead th {\n",
       "        text-align: right;\n",
       "    }\n",
       "</style>\n",
       "<table border=\"1\" class=\"dataframe\">\n",
       "  <thead>\n",
       "    <tr style=\"text-align: right;\">\n",
       "      <th></th>\n",
       "      <th>Name</th>\n",
       "      <th>Age</th>\n",
       "      <th>ID</th>\n",
       "    </tr>\n",
       "  </thead>\n",
       "  <tbody>\n",
       "    <tr>\n",
       "      <th>2</th>\n",
       "      <td>Mohamed</td>\n",
       "      <td>15</td>\n",
       "      <td>2</td>\n",
       "    </tr>\n",
       "    <tr>\n",
       "      <th>7</th>\n",
       "      <td>Ali</td>\n",
       "      <td>19</td>\n",
       "      <td>7</td>\n",
       "    </tr>\n",
       "    <tr>\n",
       "      <th>9</th>\n",
       "      <td>Tamer</td>\n",
       "      <td>23</td>\n",
       "      <td>9</td>\n",
       "    </tr>\n",
       "    <tr>\n",
       "      <th>3</th>\n",
       "      <td>Raafat</td>\n",
       "      <td>22</td>\n",
       "      <td>3</td>\n",
       "    </tr>\n",
       "    <tr>\n",
       "      <th>1</th>\n",
       "      <td>Yasser</td>\n",
       "      <td>18</td>\n",
       "      <td>1</td>\n",
       "    </tr>\n",
       "  </tbody>\n",
       "</table>\n",
       "</div>"
      ],
      "text/plain": [
       "      Name  Age  ID\n",
       "2  Mohamed   15   2\n",
       "7      Ali   19   7\n",
       "9    Tamer   23   9\n",
       "3   Raafat   22   3\n",
       "1   Yasser   18   1"
      ]
     },
     "execution_count": 56,
     "metadata": {},
     "output_type": "execute_result"
    }
   ],
   "source": [
    "#Randomly select a specified fraction of the total number of rows. Set frac=0.50, a random selection of 50% of the total rows\n",
    "df3=pd.DataFrame(dict1).sample(frac=0.5) \n",
    "df3"
   ]
  },
  {
   "cell_type": "code",
   "execution_count": 46,
   "id": "a06eaa4e",
   "metadata": {
    "ExecuteTime": {
     "end_time": "2022-02-19T13:01:22.027197Z",
     "start_time": "2022-02-19T13:01:22.011205Z"
    }
   },
   "outputs": [],
   "source": [
    "#Task 5:Save 2 columns last 3 rows\n",
    "\n",
    "df[[\"Name\",\"Age\"]].iloc[-3:].to_csv(\"newdata.csv\", index=True)"
   ]
  },
  {
   "cell_type": "code",
   "execution_count": 47,
   "id": "7c58535a",
   "metadata": {
    "ExecuteTime": {
     "end_time": "2022-02-19T13:01:24.049159Z",
     "start_time": "2022-02-19T13:01:24.040165Z"
    }
   },
   "outputs": [],
   "source": [
    "#Task 6: How to append on a csv or excel sheet \n",
    "df2.to_csv(\"newdata.csv\", index=False,mode='a' ,header=False) #set mode to 'a'"
   ]
  },
  {
   "cell_type": "code",
   "execution_count": null,
   "id": "7de72faa",
   "metadata": {},
   "outputs": [],
   "source": []
  }
 ],
 "metadata": {
  "kernelspec": {
   "display_name": "Python 3 (ipykernel)",
   "language": "python",
   "name": "python3"
  },
  "language_info": {
   "codemirror_mode": {
    "name": "ipython",
    "version": 3
   },
   "file_extension": ".py",
   "mimetype": "text/x-python",
   "name": "python",
   "nbconvert_exporter": "python",
   "pygments_lexer": "ipython3",
   "version": "3.9.6"
  }
 },
 "nbformat": 4,
 "nbformat_minor": 5
}
