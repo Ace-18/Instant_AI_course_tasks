{
 "cells": [
  {
   "cell_type": "code",
   "execution_count": null,
   "id": "5b4d0d8a",
   "metadata": {},
   "outputs": [],
   "source": [
    "def binarySearch(arr, l,r, x):\n",
    "    \n",
    "    if r==0:\n",
    "        return \"list is empty\"\n",
    "    # Check base case\n",
    "    if r >= l:\n",
    " \n",
    "        mid = l + (r - l) // 2\n",
    " \n",
    "        # If element is present at the middle itself\n",
    "        if arr[mid] == x:\n",
    "            return (f\"element at index {mid}\")\n",
    " \n",
    "        # If element is smaller than mid, then it\n",
    "        # can only be present in left subarray\n",
    "        elif arr[mid] > x:\n",
    "            return binarySearch(arr, l, mid-1, x)\n",
    " \n",
    "        # Else the element can only be present\n",
    "        # in right subarray\n",
    "        else:\n",
    "            return binarySearch(arr, mid + 1, r, x)\n",
    " \n",
    "    else:\n",
    "        # Element is not present in the array\n",
    "        return (\"element not found\")\n",
    "\n",
    "list1=[1,3,44,55,100,105,2,60,55,54]    \n",
    "x=int(input(\"Enter element\"))   \n",
    "\n",
    "binarySearch(list1,0,len(list1),x)    "
   ]
  },
  {
   "cell_type": "code",
   "execution_count": null,
   "id": "fe242685",
   "metadata": {},
   "outputs": [],
   "source": [
    "print(\"Done!!!\")"
   ]
  }
 ],
 "metadata": {
  "kernelspec": {
   "display_name": "Python 3 (ipykernel)",
   "language": "python",
   "name": "python3"
  },
  "language_info": {
   "codemirror_mode": {
    "name": "ipython",
    "version": 3
   },
   "file_extension": ".py",
   "mimetype": "text/x-python",
   "name": "python",
   "nbconvert_exporter": "python",
   "pygments_lexer": "ipython3",
   "version": "3.9.6"
  }
 },
 "nbformat": 4,
 "nbformat_minor": 5
}
