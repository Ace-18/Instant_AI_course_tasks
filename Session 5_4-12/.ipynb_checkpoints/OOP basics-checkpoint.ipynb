{
 "cells": [
  {
   "cell_type": "code",
   "execution_count": 4,
   "id": "64dba5d7",
   "metadata": {
    "ExecuteTime": {
     "end_time": "2021-12-03T22:32:07.665121Z",
     "start_time": "2021-12-03T22:32:07.641144Z"
    }
   },
   "outputs": [],
   "source": [
    "class Animal: \n",
    "    numberofleges = None \n",
    "    Name = None \n",
    "    Gender = None \n",
    "    icolor = None "
   ]
  },
  {
   "cell_type": "code",
   "execution_count": 5,
   "id": "87063db1",
   "metadata": {
    "ExecuteTime": {
     "end_time": "2021-12-03T22:32:08.155604Z",
     "start_time": "2021-12-03T22:32:08.147620Z"
    }
   },
   "outputs": [],
   "source": [
    "cow = Animal( ) # object "
   ]
  },
  {
   "cell_type": "code",
   "execution_count": 6,
   "id": "a487cee6",
   "metadata": {
    "ExecuteTime": {
     "end_time": "2021-12-03T22:32:08.592506Z",
     "start_time": "2021-12-03T22:32:08.576524Z"
    }
   },
   "outputs": [],
   "source": [
    "cow.Name = \"Cow\""
   ]
  },
  {
   "cell_type": "code",
   "execution_count": 7,
   "id": "b5d0407c",
   "metadata": {
    "ExecuteTime": {
     "end_time": "2021-12-03T22:32:09.035700Z",
     "start_time": "2021-12-03T22:32:09.019709Z"
    }
   },
   "outputs": [],
   "source": [
    "cow.Gender = \"Male\""
   ]
  },
  {
   "cell_type": "code",
   "execution_count": 8,
   "id": "9067c2bd",
   "metadata": {
    "ExecuteTime": {
     "end_time": "2021-12-03T22:32:09.658816Z",
     "start_time": "2021-12-03T22:32:09.650824Z"
    }
   },
   "outputs": [],
   "source": [
    "cow.icolor = \"White/Black\""
   ]
  },
  {
   "cell_type": "code",
   "execution_count": 9,
   "id": "9940ddc4",
   "metadata": {
    "ExecuteTime": {
     "end_time": "2021-12-03T22:32:10.113869Z",
     "start_time": "2021-12-03T22:32:10.095732Z"
    }
   },
   "outputs": [],
   "source": [
    "cow.numberofleges =  4"
   ]
  },
  {
   "cell_type": "code",
   "execution_count": 10,
   "id": "0b10e661",
   "metadata": {
    "ExecuteTime": {
     "end_time": "2021-12-03T22:32:10.832111Z",
     "start_time": "2021-12-03T22:32:10.776007Z"
    }
   },
   "outputs": [],
   "source": [
    "none = None\n",
    "class Baccount: \n",
    "    \n",
    "    def __init__(self):\n",
    "        \n",
    "        print (\"Welcome to EL Ahly Bank\")\n",
    "        self.customername = input(\"please enter your name: \")\n",
    "        self.__customerpassword = input(\"please enter your password: \")\n",
    "        self.__customerCredit = float(input(\"please enter your credit: \"))\n",
    "        self.customerID = 1\n",
    "        self.accountNumber = none\n",
    "        self.display()\n",
    "        self.__iban = 12345678\n",
    "        \n",
    "    def set_iban(self):\n",
    "        password= input(\"please enter your password: \")\n",
    "        if password == self.__customerpassword:\n",
    "            self.__iban = int(input(\"please enter your iban: \"))\n",
    "     \n",
    "    \n",
    "    def get_iban(self):\n",
    "        password= input(\"please enter your password: \")\n",
    "        if password == self.__customerpassword:\n",
    "            print(\"your iban is\", self.__iban)\n",
    "    \n",
    "    \n",
    "    def __checkcredit(self):\n",
    "        return self.__customerCredit >= 2000\n",
    "    \n",
    "    def checkVIP(self):\n",
    "        if (self.__checkcredit() == True ):\n",
    "            print(\"you're a VIP member\")\n",
    "        else:\n",
    "            print(\"you're just like anyother one haha\")\n",
    "    \n",
    "    def printcredit(self):\n",
    "        password= input(\"please enter your password: \")\n",
    "        if password == self.__customerpassword:\n",
    "            print(self.__customerCredit)\n",
    "        else: \n",
    "            print(\"Wrong password\")\n",
    "        \n",
    "    \n",
    "    def changepassword(self):\n",
    "        oldpassword = input(\"please enter your old password: \")\n",
    "        if oldpassword == self.__customerpassword:\n",
    "            self.__customerpassword = input(\"please enter your new password: \")\n",
    "        else: \n",
    "            print(\"wrong password\")\n",
    "            \n",
    "    \n",
    "    def withdraw(self):\n",
    "        password= input(\"please enter your password: \")\n",
    "        if password == self.__customerpassword:\n",
    "            amount = float(input(\"please enter how much you want: \"))\n",
    "            if amount <= 8000.0:\n",
    "                if amount <= self.__customerCredit:\n",
    "                    print(\"please take the money from the machine ^^ \")\n",
    "                    self.__customerCredit -= amount\n",
    "                    print(\"your credit now is\", self.__customerCredit)\n",
    "                else:\n",
    "                    print(\"you don't have enough credit --\")\n",
    "            else:\n",
    "                print(\"maximum amount is 8k per operation\")\n",
    "        else:\n",
    "            print(\"wrong password\")\n",
    "            \n",
    "        \n",
    "        \n",
    "    def addcredit(self):\n",
    "        password= input(\"please enter your password: \")\n",
    "        if password == self.__customerpassword:\n",
    "            newamount = float(input(\"please enter your new amount: \"))\n",
    "            self.__customerCredit += newamount\n",
    "            print(\"operation executed sucessfully, your credit now is\", self.__customerCredit)\n",
    "        else:\n",
    "            print(\"wrong password\")\n",
    "            \n",
    "    \n",
    "    def display(self): \n",
    "        while True:\n",
    "            print(\"welcome to EL Ahly bank, please select one of the following\")\n",
    "            print(\"1. add credit, 2. withdraw,  3. changepassword, 4. display credit,   5. checkVIP\")\n",
    "            x = int(input ())\n",
    "            if x == 1:\n",
    "                self.addcredit()\n",
    "            elif x == 2: \n",
    "                self.withdraw()\n",
    "            elif x == 3:\n",
    "                self.changepassword()\n",
    "            elif x == 4: \n",
    "                self.printcredit()\n",
    "            elif x == 5:\n",
    "                self.checkVIP()\n",
    "            print(\"Do you want anyother operation? y/n\")\n",
    "            y = input()\n",
    "            if y != \"y\":\n",
    "                break        \n",
    "                "
   ]
  },
  {
   "cell_type": "code",
   "execution_count": 12,
   "id": "b9de7ae9",
   "metadata": {
    "ExecuteTime": {
     "end_time": "2021-12-03T22:33:14.781760Z",
     "start_time": "2021-12-03T22:32:56.987502Z"
    }
   },
   "outputs": [
    {
     "name": "stdout",
     "output_type": "stream",
     "text": [
      "Welcome to EL Ahly Bank\n",
      "please enter your name: Ahmad\n",
      "please enter your password: 12345\n",
      "please enter your credit: 200000\n",
      "welcome to EL Ahly bank, please select one of the following\n",
      "1. add credit, 2. withdraw,  3. changepassword, 4. display credit,   5. checkVIP\n",
      "6\n",
      "Do you want anyother operation? y/n\n",
      "n\n"
     ]
    }
   ],
   "source": [
    "myaccount = Baccount() # object"
   ]
  },
  {
   "cell_type": "code",
   "execution_count": 16,
   "id": "9dfb65d6",
   "metadata": {
    "ExecuteTime": {
     "end_time": "2021-12-03T22:34:46.172185Z",
     "start_time": "2021-12-03T22:34:46.148485Z"
    }
   },
   "outputs": [
    {
     "data": {
      "text/plain": [
       "200000.0"
      ]
     },
     "execution_count": 16,
     "metadata": {},
     "output_type": "execute_result"
    }
   ],
   "source": [
    "###to access an encapsulated variable:\n",
    "myaccount._Baccount__customerCredit\n"
   ]
  },
  {
   "cell_type": "code",
   "execution_count": 32,
   "id": "834d30d2",
   "metadata": {
    "ExecuteTime": {
     "end_time": "2021-11-23T19:02:39.975722Z",
     "start_time": "2021-11-23T19:02:38.932781Z"
    }
   },
   "outputs": [
    {
     "name": "stdout",
     "output_type": "stream",
     "text": [
      "please enter your password: 123\n",
      "120.0\n"
     ]
    }
   ],
   "source": [
    "myaccount.printcredit()"
   ]
  },
  {
   "cell_type": "code",
   "execution_count": 28,
   "id": "5b8f09a5",
   "metadata": {
    "ExecuteTime": {
     "end_time": "2021-11-23T19:01:14.598769Z",
     "start_time": "2021-11-23T19:01:14.582770Z"
    }
   },
   "outputs": [
    {
     "ename": "AttributeError",
     "evalue": "'Baccount' object has no attribute '__customerpassword'",
     "output_type": "error",
     "traceback": [
      "\u001b[1;31m---------------------------------------------------------------------------\u001b[0m",
      "\u001b[1;31mAttributeError\u001b[0m                            Traceback (most recent call last)",
      "\u001b[1;32m<ipython-input-28-7a869596a91b>\u001b[0m in \u001b[0;36m<module>\u001b[1;34m\u001b[0m\n\u001b[1;32m----> 1\u001b[1;33m \u001b[0mmyaccount\u001b[0m\u001b[1;33m.\u001b[0m\u001b[0m__customerpassword\u001b[0m\u001b[1;33m\u001b[0m\u001b[1;33m\u001b[0m\u001b[0m\n\u001b[0m",
      "\u001b[1;31mAttributeError\u001b[0m: 'Baccount' object has no attribute '__customerpassword'"
     ]
    }
   ],
   "source": [
    "myaccount.__customerpassword"
   ]
  },
  {
   "cell_type": "code",
   "execution_count": 33,
   "id": "54139c98",
   "metadata": {
    "ExecuteTime": {
     "end_time": "2021-11-23T19:03:01.805233Z",
     "start_time": "2021-11-23T19:02:52.171456Z"
    }
   },
   "outputs": [
    {
     "name": "stdout",
     "output_type": "stream",
     "text": [
      "please enter your old password: 123\n",
      "please enter your new password: 1234\n"
     ]
    }
   ],
   "source": [
    "myaccount.changepassword()"
   ]
  },
  {
   "cell_type": "code",
   "execution_count": 34,
   "id": "25ceec45",
   "metadata": {
    "ExecuteTime": {
     "end_time": "2021-11-23T19:03:52.549159Z",
     "start_time": "2021-11-23T19:03:52.542158Z"
    }
   },
   "outputs": [
    {
     "data": {
      "text/plain": [
       "'Ahmed'"
      ]
     },
     "execution_count": 34,
     "metadata": {},
     "output_type": "execute_result"
    }
   ],
   "source": [
    "myaccount.customername"
   ]
  },
  {
   "cell_type": "code",
   "execution_count": 37,
   "id": "705906ad",
   "metadata": {
    "ExecuteTime": {
     "end_time": "2021-11-23T19:09:59.181571Z",
     "start_time": "2021-11-23T19:09:53.266494Z"
    }
   },
   "outputs": [
    {
     "name": "stdout",
     "output_type": "stream",
     "text": [
      "please enter your password: 123\n",
      "please enter how much you want: 1000\n",
      "please take the money from the machine ^^ \n",
      "your credit now is 200.0\n"
     ]
    }
   ],
   "source": [
    "myaccount.withdraw()"
   ]
  },
  {
   "cell_type": "code",
   "execution_count": 40,
   "id": "cf8d914e",
   "metadata": {
    "ExecuteTime": {
     "end_time": "2021-11-23T19:12:32.012749Z",
     "start_time": "2021-11-23T19:12:26.183673Z"
    }
   },
   "outputs": [
    {
     "name": "stdout",
     "output_type": "stream",
     "text": [
      "please enter your password: 123\n",
      "please enter your new amount: 300\n",
      "operation executed sucessfully, your credit now is 1500.0\n"
     ]
    }
   ],
   "source": [
    "myaccount.addcredit()"
   ]
  },
  {
   "cell_type": "code",
   "execution_count": 41,
   "id": "69458fc9",
   "metadata": {
    "ExecuteTime": {
     "end_time": "2021-11-23T19:13:27.136701Z",
     "start_time": "2021-11-23T19:13:03.491735Z"
    }
   },
   "outputs": [
    {
     "name": "stdout",
     "output_type": "stream",
     "text": [
      "Welcome to EL Ahly Bank\n",
      "please enter your name: Fara8\n",
      "please enter your password: 1234\n",
      "please enter your credit: 7000\n"
     ]
    }
   ],
   "source": [
    "newaccount = Baccount()"
   ]
  },
  {
   "cell_type": "code",
   "execution_count": 42,
   "id": "ff94baa8",
   "metadata": {
    "ExecuteTime": {
     "end_time": "2021-11-23T19:13:42.813593Z",
     "start_time": "2021-11-23T19:13:35.886847Z"
    }
   },
   "outputs": [
    {
     "name": "stdout",
     "output_type": "stream",
     "text": [
      "please enter your old password: 1234\n",
      "please enter your new password: 12345\n"
     ]
    }
   ],
   "source": [
    "newaccount.changepassword()"
   ]
  },
  {
   "cell_type": "code",
   "execution_count": 43,
   "id": "8213d969",
   "metadata": {
    "ExecuteTime": {
     "end_time": "2021-11-23T19:14:10.299954Z",
     "start_time": "2021-11-23T19:13:56.222266Z"
    }
   },
   "outputs": [
    {
     "name": "stdout",
     "output_type": "stream",
     "text": [
      "please enter your password: 12345\n",
      "please enter your new amount: 2300\n",
      "operation executed sucessfully, your credit now is 9300.0\n"
     ]
    }
   ],
   "source": [
    "newaccount.addcredit()"
   ]
  },
  {
   "cell_type": "code",
   "execution_count": 3,
   "id": "628994bb",
   "metadata": {
    "ExecuteTime": {
     "end_time": "2021-12-03T22:31:58.580747Z",
     "start_time": "2021-12-03T22:31:58.558423Z"
    }
   },
   "outputs": [
    {
     "ename": "NameError",
     "evalue": "name 'newaccount' is not defined",
     "output_type": "error",
     "traceback": [
      "\u001b[1;31m---------------------------------------------------------------------------\u001b[0m",
      "\u001b[1;31mNameError\u001b[0m                                 Traceback (most recent call last)",
      "\u001b[1;32mC:\\Users\\HP15~1\\AppData\\Local\\Temp/ipykernel_9888/4097329263.py\u001b[0m in \u001b[0;36m<module>\u001b[1;34m\u001b[0m\n\u001b[1;32m----> 1\u001b[1;33m \u001b[0mnewaccount\u001b[0m\u001b[1;33m\u001b[0m\u001b[1;33m\u001b[0m\u001b[0m\n\u001b[0m",
      "\u001b[1;31mNameError\u001b[0m: name 'newaccount' is not defined"
     ]
    }
   ],
   "source": [
    "newaccount"
   ]
  },
  {
   "cell_type": "code",
   "execution_count": null,
   "id": "caa3f2da",
   "metadata": {},
   "outputs": [],
   "source": [
    "print(1)"
   ]
  }
 ],
 "metadata": {
  "kernelspec": {
   "display_name": "Python 3 (ipykernel)",
   "language": "python",
   "name": "python3"
  },
  "language_info": {
   "codemirror_mode": {
    "name": "ipython",
    "version": 3
   },
   "file_extension": ".py",
   "mimetype": "text/x-python",
   "name": "python",
   "nbconvert_exporter": "python",
   "pygments_lexer": "ipython3",
   "version": "3.9.6"
  },
  "toc": {
   "base_numbering": 1,
   "nav_menu": {},
   "number_sections": true,
   "sideBar": true,
   "skip_h1_title": false,
   "title_cell": "Table of Contents",
   "title_sidebar": "Contents",
   "toc_cell": false,
   "toc_position": {},
   "toc_section_display": true,
   "toc_window_display": false
  },
  "varInspector": {
   "cols": {
    "lenName": 16,
    "lenType": 16,
    "lenVar": 40
   },
   "kernels_config": {
    "python": {
     "delete_cmd_postfix": "",
     "delete_cmd_prefix": "del ",
     "library": "var_list.py",
     "varRefreshCmd": "print(var_dic_list())"
    },
    "r": {
     "delete_cmd_postfix": ") ",
     "delete_cmd_prefix": "rm(",
     "library": "var_list.r",
     "varRefreshCmd": "cat(var_dic_list()) "
    }
   },
   "types_to_exclude": [
    "module",
    "function",
    "builtin_function_or_method",
    "instance",
    "_Feature"
   ],
   "window_display": false
  }
 },
 "nbformat": 4,
 "nbformat_minor": 5
}
