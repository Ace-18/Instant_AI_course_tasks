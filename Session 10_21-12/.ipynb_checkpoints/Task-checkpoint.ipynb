{
 "cells": [
  {
   "cell_type": "code",
   "execution_count": 1,
   "id": "5c2ae9db",
   "metadata": {
    "ExecuteTime": {
     "end_time": "2022-01-01T20:29:32.175005Z",
     "start_time": "2022-01-01T20:29:31.499683Z"
    }
   },
   "outputs": [],
   "source": [
    "from bs4 import BeautifulSoup\n",
    "import csv\n"
   ]
  },
  {
   "cell_type": "code",
   "execution_count": 24,
   "id": "0c7b0f61",
   "metadata": {
    "ExecuteTime": {
     "end_time": "2022-01-01T20:46:51.522667Z",
     "start_time": "2022-01-01T20:46:51.498665Z"
    }
   },
   "outputs": [
    {
     "data": {
      "text/plain": [
       "27"
      ]
     },
     "execution_count": 24,
     "metadata": {},
     "output_type": "execute_result"
    }
   ],
   "source": [
    "csvfile = open ('Subscriptions.csv', 'w', encoding='utf-8')\n",
    "writer = csv.writer(csvfile)\n",
    "writer.writerow(['Channel Name','Channel Link'])"
   ]
  },
  {
   "cell_type": "code",
   "execution_count": 25,
   "id": "b661aa2f",
   "metadata": {
    "ExecuteTime": {
     "end_time": "2022-01-01T20:46:52.918867Z",
     "start_time": "2022-01-01T20:46:52.217907Z"
    }
   },
   "outputs": [],
   "source": [
    "with open (\"Channel list.html\",encoding='UTF-8') as html_file:\n",
    "    soup=BeautifulSoup(html_file,'lxml')    "
   ]
  },
  {
   "cell_type": "code",
   "execution_count": 26,
   "id": "155568cb",
   "metadata": {
    "ExecuteTime": {
     "end_time": "2022-01-01T20:46:53.571812Z",
     "start_time": "2022-01-01T20:46:53.507819Z"
    }
   },
   "outputs": [],
   "source": [
    "channels=soup.find_all('div',{\"id\":\"content-section\"})"
   ]
  },
  {
   "cell_type": "code",
   "execution_count": 30,
   "id": "721fbedf",
   "metadata": {
    "ExecuteTime": {
     "end_time": "2022-01-01T20:48:29.650487Z",
     "start_time": "2022-01-01T20:48:29.634491Z"
    }
   },
   "outputs": [
    {
     "name": "stdout",
     "output_type": "stream",
     "text": [
      "Amr Fathy عمرو فتحي\n",
      "CUFE 23\n",
      "CUFE Mechanical Society\n",
      "Dr. Mohamed Ismail\n",
      "DSCCUFE\n",
      "H academy\n",
      "Hamza Amein\n",
      "Mecha 23\n",
      "Mohammad Mortada\n",
      "طحالب\n"
     ]
    }
   ],
   "source": [
    "for channel in channels:\n",
    "    c_name=channel.find('yt-formatted-string').text\n",
    "    c_link=channel.a['href']\n",
    "    writer.writerow([c_name,c_link])\n",
    "    print(c_name)\n",
    "csvfile.close()    "
   ]
  }
 ],
 "metadata": {
  "kernelspec": {
   "display_name": "Python 3",
   "language": "python",
   "name": "python3"
  },
  "language_info": {
   "codemirror_mode": {
    "name": "ipython",
    "version": 3
   },
   "file_extension": ".py",
   "mimetype": "text/x-python",
   "name": "python",
   "nbconvert_exporter": "python",
   "pygments_lexer": "ipython3",
   "version": "3.8.8"
  }
 },
 "nbformat": 4,
 "nbformat_minor": 5
}
