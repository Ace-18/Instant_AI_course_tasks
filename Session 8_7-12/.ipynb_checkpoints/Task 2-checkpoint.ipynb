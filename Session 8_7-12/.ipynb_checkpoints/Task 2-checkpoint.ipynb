{
 "cells": [
  {
   "cell_type": "markdown",
   "id": "045d6720",
   "metadata": {},
   "source": [
    "<h1>Task 2</h1>\n",
    "<h3>Use Anaconda prompt to:</h3>\n",
    "\n",
    "<p>\n",
    "    <ul>\n",
    "        \n",
    "   <li><b>To create an environment called newenv:</b>  conda create -n newenv<br><br>\n",
    "    \n",
    "   <li><b>To install a package:</b>\n",
    "       <ul>\n",
    "           <li>conda install -c anaconda seaborn\n",
    "           <li>conda install -c conda-forge tensorflow</ul><br>\n",
    "    \n",
    "   <li><b>To install a package version:</b>\n",
    "        <ul>\n",
    "            <li>conda install -c anaconda seaborn==0.10.1\n",
    "            <li>conda install tensorflow-gpu==1.15.0</ul><br>\n",
    "        \n",
    "   <li><b>To search for versions:</b>\n",
    "        <ul>\n",
    "           <li>conda search seaborn\n",
    "           <li>conda search tensorflow-gpu</ul><br>\n",
    "    \n",
    "   <li><b>To remove a package:</b>  conda uninstall seaborn <br><br>\n",
    "       \n",
    "   <li><b>To remove an environment called newenv:</b>  conda env remove -n newenv<br>\n",
    "\n",
    "   </ul>\n",
    "</p>    "
   ]
  },
  {
   "cell_type": "code",
   "execution_count": null,
   "id": "5444c5ac",
   "metadata": {},
   "outputs": [],
   "source": []
  }
 ],
 "metadata": {
  "kernelspec": {
   "display_name": "Python 3",
   "language": "python",
   "name": "python3"
  },
  "language_info": {
   "codemirror_mode": {
    "name": "ipython",
    "version": 3
   },
   "file_extension": ".py",
   "mimetype": "text/x-python",
   "name": "python",
   "nbconvert_exporter": "python",
   "pygments_lexer": "ipython3",
   "version": "3.8.8"
  }
 },
 "nbformat": 4,
 "nbformat_minor": 5
}
