{
 "cells": [
  {
   "cell_type": "markdown",
   "id": "41d3e185",
   "metadata": {},
   "source": [
    "<h1>Task 1:</h1>    "
   ]
  },
  {
   "cell_type": "code",
   "execution_count": 29,
   "id": "48744794",
   "metadata": {
    "ExecuteTime": {
     "end_time": "2021-12-21T12:44:18.884036Z",
     "start_time": "2021-12-21T12:44:18.869040Z"
    }
   },
   "outputs": [],
   "source": [
    "import re\n",
    "\n",
    "text=\"abc^_^ 123` 435 \"\n"
   ]
  },
  {
   "cell_type": "code",
   "execution_count": 31,
   "id": "d7305017",
   "metadata": {
    "ExecuteTime": {
     "end_time": "2021-12-21T12:44:27.578008Z",
     "start_time": "2021-12-21T12:44:27.557015Z"
    }
   },
   "outputs": [
    {
     "name": "stdout",
     "output_type": "stream",
     "text": [
      "<callable_iterator object at 0x00000222A9D01910>\n",
      "<re.Match object; span=(3, 6), match='^_^'>\n"
     ]
    }
   ],
   "source": [
    "pattern=re.compile(\"[\\[-`]{3}\")\n",
    "\n",
    "matches=pattern.finditer(text)\n",
    "\n",
    "for m in matches:\n",
    "    print(m)"
   ]
  },
  {
   "cell_type": "code",
   "execution_count": 15,
   "id": "be987ab3",
   "metadata": {
    "ExecuteTime": {
     "end_time": "2021-12-20T19:15:44.545587Z",
     "start_time": "2021-12-20T19:15:44.529588Z"
    }
   },
   "outputs": [
    {
     "data": {
      "text/plain": [
       "'`'"
      ]
     },
     "execution_count": 15,
     "metadata": {},
     "output_type": "execute_result"
    }
   ],
   "source": []
  },
  {
   "cell_type": "code",
   "execution_count": null,
   "id": "d742c431",
   "metadata": {},
   "outputs": [],
   "source": []
  },
  {
   "cell_type": "code",
   "execution_count": null,
   "id": "09341d9c",
   "metadata": {},
   "outputs": [],
   "source": []
  }
 ],
 "metadata": {
  "kernelspec": {
   "display_name": "Python 3",
   "language": "python",
   "name": "python3"
  },
  "language_info": {
   "codemirror_mode": {
    "name": "ipython",
    "version": 3
   },
   "file_extension": ".py",
   "mimetype": "text/x-python",
   "name": "python",
   "nbconvert_exporter": "python",
   "pygments_lexer": "ipython3",
   "version": "3.8.8"
  }
 },
 "nbformat": 4,
 "nbformat_minor": 5
}
