{
 "cells": [
  {
   "cell_type": "markdown",
   "id": "c6eeb15a",
   "metadata": {},
   "source": [
    "<h1>Task 5</h1>\n",
    "<h2>Using selenium and webdriver, login GitHub</h2> "
   ]
  },
  {
   "cell_type": "code",
   "execution_count": 11,
   "id": "922a91ec",
   "metadata": {
    "ExecuteTime": {
     "end_time": "2021-12-11T16:01:24.521685Z",
     "start_time": "2021-12-11T16:00:47.335348Z"
    }
   },
   "outputs": [],
   "source": [
    "from selenium import webdriver\n",
    "\n",
    "username=\"\"\n",
    "password=\"\"\n",
    "\n",
    "mail_username=\"\"\n",
    "mail_password=\"\"\n",
    "\n",
    "driver=webdriver.Chrome()\n",
    "driver.get(\"https://github.com/login\")\n",
    "\n",
    "driver.find_element_by_id(\"login_field\").send_keys(username)\n",
    "driver.find_element_by_id(\"password\").send_keys(password)\n",
    "\n",
    "driver.find_element_by_name(\"commit\").click()\n",
    "code=\n",
    "\n"
   ]
  },
  {
   "cell_type": "code",
   "execution_count": 2,
   "id": "830c097f",
   "metadata": {
    "ExecuteTime": {
     "end_time": "2021-12-10T23:45:25.214327Z",
     "start_time": "2021-12-10T23:45:25.066413Z"
    }
   },
   "outputs": [],
   "source": [
    "#driver.close() #closes the tab not the browser\n",
    "#driver.quit() #closes the browser"
   ]
  },
  {
   "cell_type": "code",
   "execution_count": 6,
   "id": "e285acb5",
   "metadata": {
    "ExecuteTime": {
     "end_time": "2021-12-13T18:25:38.044769Z",
     "start_time": "2021-12-13T18:25:31.710317Z"
    }
   },
   "outputs": [],
   "source": [
    "#sign in gmail\n",
    "\n",
    "from selenium import webdriver\n",
    "\n",
    "username=\"\"\n",
    "password=\"\"\n",
    "\n",
    "mail_username=\"yoriichi.ace@gmail.com\"\n",
    "mail_password=\"\"\n",
    "\n",
    "driver=webdriver.Chrome()\n",
    "driver.get(\"https://accounts.google.com/signin/v2/identifier?continue=https%3A%2F%2Fmail.google.com%2Fmail%2F&service=mail&sacu=1&rip=1&flowName=GlifWebSignIn&flowEntry=ServiceLogin\")\n",
    "\n",
    "driver.find_element_by_id(\"identifierId\").send_keys(mail_username)\n",
    "\n",
    "driver.find_element_by_class_name(\"VfPpkd-vQzf8d\").click()\n",
    "\n",
    "#driver.find_element_by_id(\"password\").send_keys(password)\n",
    "\n",
    "\n",
    "#code=\n",
    "\n",
    "#try:\n",
    "    #driver.find_element_by_id(\"otp\").send_keys(code)\n",
    "\n"
   ]
  },
  {
   "cell_type": "code",
   "execution_count": null,
   "id": "463ca9bc",
   "metadata": {},
   "outputs": [],
   "source": []
  }
 ],
 "metadata": {
  "kernelspec": {
   "display_name": "Python 3",
   "language": "python",
   "name": "python3"
  },
  "language_info": {
   "codemirror_mode": {
    "name": "ipython",
    "version": 3
   },
   "file_extension": ".py",
   "mimetype": "text/x-python",
   "name": "python",
   "nbconvert_exporter": "python",
   "pygments_lexer": "ipython3",
   "version": "3.8.8"
  }
 },
 "nbformat": 4,
 "nbformat_minor": 5
}
