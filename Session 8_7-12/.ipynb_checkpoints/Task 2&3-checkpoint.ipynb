{
 "cells": [
  {
   "cell_type": "markdown",
   "id": "2aa85c1b",
   "metadata": {},
   "source": [
    "<h1>Task 2</h1>\n",
    "<h3>Use Anaconda prompt to:</h3>\n",
    "\n",
    "<p>\n",
    "    <ul>\n",
    "        \n",
    "   <li><b>To create an environment called newenv:</b>  conda create -n newenv<br><br>\n",
    "    \n",
    "   <li><b>To install a package:</b>\n",
    "       <ul>\n",
    "           <li>conda install -c anaconda seaborn\n",
    "           <li>conda install -c conda-forge tensorflow</ul><br>\n",
    "    \n",
    "   <li><b>To install a package version:</b>\n",
    "        <ul>\n",
    "            <li>conda install -c anaconda seaborn==0.10.1\n",
    "            <li>conda install tensorflow-gpu==1.15.0</ul><br>\n",
    "        \n",
    "   <li><b>To search for versions:</b>\n",
    "        <ul>\n",
    "           <li>conda search seaborn\n",
    "           <li>conda search tensorflow-gpu</ul><br>\n",
    "    \n",
    "   <li><b>To remove a package:</b>  conda uninstall seaborn <br><br>\n",
    "       \n",
    "   <li><b>To remove an environment called newenv:</b>  conda env remove -n newenv<br>\n",
    "\n",
    "   </ul>\n",
    "</p>    "
   ]
  },
  {
   "cell_type": "markdown",
   "id": "9307d338",
   "metadata": {},
   "source": [
    "<h1>Task 3</h1>\n",
    "<h2>Downloading YouTube Video</h2?"
   ]
  },
  {
   "cell_type": "code",
   "execution_count": 1,
   "id": "d65cbdb2",
   "metadata": {
    "ExecuteTime": {
     "end_time": "2021-12-11T11:19:35.848856Z",
     "start_time": "2021-12-11T11:19:35.829868Z"
    }
   },
   "outputs": [],
   "source": [
    "from pytube import YouTube"
   ]
  },
  {
   "cell_type": "code",
   "execution_count": 11,
   "id": "0f1f162a",
   "metadata": {
    "ExecuteTime": {
     "end_time": "2021-12-11T11:33:21.679026Z",
     "start_time": "2021-12-11T11:33:21.660790Z"
    }
   },
   "outputs": [],
   "source": [
    "link=\"https://www.youtube.com/watch?v=k4HlfCR2Wvk\"\n",
    "video=YouTube(link)"
   ]
  },
  {
   "cell_type": "code",
   "execution_count": 17,
   "id": "29c1bbc7",
   "metadata": {
    "ExecuteTime": {
     "end_time": "2021-12-11T11:34:06.000603Z",
     "start_time": "2021-12-11T11:34:05.987612Z"
    }
   },
   "outputs": [
    {
     "name": "stdout",
     "output_type": "stream",
     "text": [
      "<pytube.__main__.YouTube object: videoId=k4HlfCR2Wvk>\n"
     ]
    }
   ],
   "source": [
    "# to get all streams\n",
    "#\n",
    "#for s in video.streams:\n",
    "#    print(s)\n",
    "    "
   ]
  },
  {
   "cell_type": "code",
   "execution_count": 34,
   "id": "b5739e07",
   "metadata": {
    "ExecuteTime": {
     "end_time": "2021-12-11T11:43:52.776520Z",
     "start_time": "2021-12-11T11:43:44.142442Z"
    }
   },
   "outputs": [
    {
     "data": {
      "text/plain": [
       "'C:/Users/HP 15/Desktop/Instant_Task/Datasets\\\\86 EIGHTY-SIX - Ending 1  Avid.mp4'"
      ]
     },
     "execution_count": 34,
     "metadata": {},
     "output_type": "execute_result"
    }
   ],
   "source": [
    "stream360=video.streams.get_by_resolution(resolution=\"360p\") #specifying stream to download (using 360 resolution in this case)\n",
    "stream360.download() #video saved in same directory"
   ]
  },
  {
   "cell_type": "code",
   "execution_count": 33,
   "id": "c04a273d",
   "metadata": {
    "ExecuteTime": {
     "end_time": "2021-12-11T11:43:42.229551Z",
     "start_time": "2021-12-11T11:43:42.220556Z"
    }
   },
   "outputs": [],
   "source": [
    "#To specify where video will be saved\n",
    "\n",
    "path=\"C:/Users/HP 15/Desktop/Instant_Task/Datasets\"\n",
    "stream360.download(output_path= path)"
   ]
  },
  {
   "cell_type": "code",
   "execution_count": null,
   "id": "49383986",
   "metadata": {},
   "outputs": [],
   "source": []
  }
 ],
 "metadata": {
  "kernelspec": {
   "display_name": "Python 3",
   "language": "python",
   "name": "python3"
  },
  "language_info": {
   "codemirror_mode": {
    "name": "ipython",
    "version": 3
   },
   "file_extension": ".py",
   "mimetype": "text/x-python",
   "name": "python",
   "nbconvert_exporter": "python",
   "pygments_lexer": "ipython3",
   "version": "3.8.8"
  }
 },
 "nbformat": 4,
 "nbformat_minor": 5
}
