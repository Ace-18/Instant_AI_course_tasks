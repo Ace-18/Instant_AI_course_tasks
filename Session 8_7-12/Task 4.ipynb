{
 "cells": [
  {
   "cell_type": "markdown",
   "id": "32c84998",
   "metadata": {},
   "source": [
    "<h1>Task 4</h1>\n",
    "<h2></h2>"
   ]
  },
  {
   "cell_type": "code",
   "execution_count": 1,
   "id": "18b2891f",
   "metadata": {
    "ExecuteTime": {
     "end_time": "2021-12-11T11:06:41.510169Z",
     "start_time": "2021-12-11T11:06:40.743456Z"
    }
   },
   "outputs": [],
   "source": [
    "import requests\n",
    "from bs4 import BeautifulSoup\n",
    "import csv\n",
    "\n",
    "from selenium import webdriver\n"
   ]
  },
  {
   "cell_type": "raw",
   "id": "7293dace",
   "metadata": {},
   "source": [
    "from selenium.webdriver.common.keys import Keys\n",
    "from selenium.webdriver.support.ui import WebDriverWait\n",
    "from selenium.webdriver.common.by import By\n",
    "from selenium.webdriver.support import expected_conditions as EC\n",
    "import time\n",
    "\n",
    "try:\n",
    "    element=WebDriverWait(driver,20).until(EC.presence_of_element_located(By.CLASS_NAME,\"nav-next\"))\n",
    "    element.click()\n",
    "except:\n",
    "    print(1)"
   ]
  },
  {
   "cell_type": "code",
   "execution_count": 8,
   "id": "2eadb674",
   "metadata": {
    "ExecuteTime": {
     "end_time": "2021-12-11T11:10:47.094834Z",
     "start_time": "2021-12-11T11:10:40.304602Z"
    }
   },
   "outputs": [],
   "source": [
    "link=\"https://witchculttranslation.com/2019/10/07/arc-6-chapter-71-count-one/\"\n",
    "\n",
    "driver=webdriver.Chrome()\n",
    "driver.get(link)\n",
    "\n"
   ]
  },
  {
   "cell_type": "code",
   "execution_count": 9,
   "id": "3e72ca8b",
   "metadata": {
    "ExecuteTime": {
     "end_time": "2021-12-11T11:10:47.110827Z",
     "start_time": "2021-12-11T11:10:47.098831Z"
    }
   },
   "outputs": [
    {
     "data": {
      "text/plain": [
       "34"
      ]
     },
     "execution_count": 9,
     "metadata": {},
     "output_type": "execute_result"
    }
   ],
   "source": [
    "csvfile = open ('scrape_task4.csv', 'w', encoding='utf-8') # w = write into the file , general way of representing data \n",
    "writer = csv.writer(csvfile)\n",
    "writer.writerow(['Chapter Number','Chapter Name' 'PART1'])"
   ]
  },
  {
   "cell_type": "code",
   "execution_count": 10,
   "id": "67b71b93",
   "metadata": {
    "ExecuteTime": {
     "end_time": "2021-12-11T11:11:36.651389Z",
     "start_time": "2021-12-11T11:10:47.116820Z"
    }
   },
   "outputs": [],
   "source": [
    "for a in range(10):    \n",
    "    source=requests.get(link).text\n",
    "    soup=BeautifulSoup(source,\"lxml\")\n",
    "\n",
    "    chapter=soup.title.text.split(\"|\")[0].split(\"–\")\n",
    "    chapter_number=chapter[1].split(\",\")[0].strip()\n",
    "    chapter_name=_number=chapter[1].split(\",\")[1].strip()\n",
    "\n",
    "    y=soup.find('div', class_=\"entry-content\")\n",
    "    z=0\n",
    "    x=0\n",
    "    part1=\"\"\n",
    "    for i in y: \n",
    "        if str(type(i))== \"<class 'bs4.element.Tag'>\" :\n",
    "            if \"※\" in (i.text.strip()) or \"△▼\" in (i.text.strip()):\n",
    "                if x>2:\n",
    "                    break\n",
    "                else:\n",
    "                    x+=1\n",
    "                    continue\n",
    "            elif x==3:\n",
    "                part1+=i.text.strip()+\"\\n\"\n",
    "\n",
    "    writer.writerow([chapter_number,chapter_name ,part1 ])\n",
    "\n",
    "    link=soup.find(\"div\",class_=\"nav-next\").a.attrs[\"href\"]\n",
    "    driver.get(link)\n",
    "\n",
    "csvfile.close()"
   ]
  },
  {
   "cell_type": "code",
   "execution_count": 5,
   "id": "f4c9cd4f",
   "metadata": {
    "ExecuteTime": {
     "end_time": "2021-12-10T23:41:52.046996Z",
     "start_time": "2021-12-10T23:41:52.035001Z"
    }
   },
   "outputs": [],
   "source": [
    "#driver.find_element_by_link_text(\"Next post:\").click()"
   ]
  },
  {
   "cell_type": "code",
   "execution_count": null,
   "id": "f7efa114",
   "metadata": {},
   "outputs": [],
   "source": []
  }
 ],
 "metadata": {
  "kernelspec": {
   "display_name": "Python 3 (ipykernel)",
   "language": "python",
   "name": "python3"
  },
  "language_info": {
   "codemirror_mode": {
    "name": "ipython",
    "version": 3
   },
   "file_extension": ".py",
   "mimetype": "text/x-python",
   "name": "python",
   "nbconvert_exporter": "python",
   "pygments_lexer": "ipython3",
   "version": "3.9.6"
  }
 },
 "nbformat": 4,
 "nbformat_minor": 5
}
