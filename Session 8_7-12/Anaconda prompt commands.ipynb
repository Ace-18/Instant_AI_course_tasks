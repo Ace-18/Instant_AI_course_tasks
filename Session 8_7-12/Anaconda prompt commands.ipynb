{
 "cells": [
  {
   "cell_type": "markdown",
   "id": "e057e60d",
   "metadata": {
    "ExecuteTime": {
     "end_time": "2021-12-11T21:07:10.183321Z",
     "start_time": "2021-12-11T21:07:10.159328Z"
    }
   },
   "source": [
    "<h1>Using Anaconda prompt:</h1>\n",
    "\n",
    "<p>\n",
    "    <ul>\n",
    "        \n",
    "   <li><b>To create an environment called newenv:</b>  conda create -n newenv<br><br>\n",
    "   <li><b>To switch to newenv:</b>  conda activate newenv<br><br>    \n",
    "   <li><b>To remove an environment called newenv:</b>  conda env remove -n newenv<br><br>\n",
    "   <li><b>To view all environments:</b>  conda env list<br><br>    \n",
    "    \n",
    "   <li><b>To install a package:</b>\n",
    "       <ul>\n",
    "           <li>conda install -c anaconda seaborn\n",
    "           <li>conda install -c conda-forge tensorflow</ul><br>\n",
    "    \n",
    "   <li><b>To search for versions of the package:</b>\n",
    "        <ul>\n",
    "           <li>conda search seaborn\n",
    "           <li>conda search tensorflow-gpu</ul><br>\n",
    "       \n",
    "   <li><b>To install a package version:</b>\n",
    "        <ul>\n",
    "            <li>conda install -c anaconda seaborn==0.10.1\n",
    "            <li>conda install tensorflow-gpu==1.15.0</ul><br>\n",
    "        \n",
    "\n",
    "    \n",
    "   <li><b>To remove a package:</b>  conda uninstall seaborn <br><br>\n",
    "       \n",
    "   \n",
    "\n",
    "   </ul>\n",
    "</p>    "
   ]
  },
  {
   "cell_type": "code",
   "execution_count": null,
   "id": "86cfecb2",
   "metadata": {},
   "outputs": [],
   "source": []
  }
 ],
 "metadata": {
  "kernelspec": {
   "display_name": "Python 3",
   "language": "python",
   "name": "python3"
  },
  "language_info": {
   "codemirror_mode": {
    "name": "ipython",
    "version": 3
   },
   "file_extension": ".py",
   "mimetype": "text/x-python",
   "name": "python",
   "nbconvert_exporter": "python",
   "pygments_lexer": "ipython3",
   "version": "3.8.8"
  }
 },
 "nbformat": 4,
 "nbformat_minor": 5
}
